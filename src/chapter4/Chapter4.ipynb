{
 "cells": [
  {
   "metadata": {
    "ExecuteTime": {
     "end_time": "2025-09-04T04:53:35.218162Z",
     "start_time": "2025-09-04T04:53:35.212758Z"
    }
   },
   "cell_type": "markdown",
   "source": [
    "# Implementing a GPT model from scratch to generate text\n",
    "\n",
    "We will start with a placeholder GPT model and gradually build it up to a fully functional text generation model.\n",
    "\n",
    "\n",
    "![test](./Steps.png)\n",
    "We will start by defining the config for the model\n"
   ],
   "id": "3aa04edaed4c7ecf"
  },
  {
   "metadata": {
    "ExecuteTime": {
     "end_time": "2025-09-05T04:55:14.157971Z",
     "start_time": "2025-09-05T04:55:13.558318Z"
    }
   },
   "cell_type": "code",
   "source": [
    "from sympy.physics.control.control_plots import matplotlib\n",
    "\n",
    "GPT_CONFIG_124M = {\n",
    "\"vocab_size\": 50257,     # Vocabulary size\\n\",\n",
    "\"context_length\": 1024,  # Context length\\n\",\n",
    "\"emb_dim\": 768,          # Embedding dimension\\n\",\n",
    "\"n_heads\": 12,           # Number of attention heads\\n\",\n",
    "\"n_layers\": 12,          # Number of layers\\n\",\n",
    "\"drop_rate\": 0.1,        # Dropout rate\\n\",\n",
    "\"qkv_bias\": False        # Query-Key-Value bias\\n\",\n",
    "}"
   ],
   "id": "7f66d33fc9bca533",
   "outputs": [],
   "execution_count": 1
  },
  {
   "metadata": {
    "ExecuteTime": {
     "end_time": "2025-09-05T04:55:15.917596Z",
     "start_time": "2025-09-05T04:55:15.171651Z"
    }
   },
   "cell_type": "code",
   "source": [
    "import torch.nn as nn\n",
    "\n",
    "# Placeholder Transformer block which we will implement later\n",
    "class DummyTransformerBlock(nn.Module):\n",
    "    def __init__(self, cfg):\n",
    "        super().__init__()\n",
    "\n",
    "    def forward(self, x):\n",
    "        return x\n",
    "\n",
    "# Placeholder LayerNorm which we will implement later\n",
    "class DummyLayerNorm(nn.Module):\n",
    "    def __init__(self, normalized_shape, eps=1e-5):\n",
    "        super().__init__()\n",
    "    def forward(self, x):\n",
    "        return x\n",
    "\n",
    "\n",
    "class DummyGPTModel(nn.Module):\n",
    "    def __init__(self, cfg):\n",
    "        super().__init__()\n",
    "        self.tok_emb = nn.Embedding(cfg[\"vocab_size\"], cfg[\"emb_dim\"]) # Maps a token to an embedding vector\n",
    "        self.pos_emb = nn.Embedding(cfg[\"context_length\"], cfg[\"emb_dim\"]) # Maps a position to an embedding vector\n",
    "        self.drop_emb = nn.Dropout(cfg[\"drop_rate\"]) # Dropout layer\n",
    "        self.trf_blocks = nn.Sequential(*[DummyTransformerBlock(cfg) for _ in range(cfg[\"n_layers\"])])\n",
    "        self.final_norm = DummyLayerNorm(cfg[\"emb_dim\"])\n",
    "        self.out_head = nn.Linear(cfg[\"emb_dim\"], cfg[\"vocab_size\"], bias=False)\n",
    "\n",
    "    def forward(self, in_idx):\n",
    "        batch_size, seq_len = in_idx.shape          # (batch_size, seq_len)\n",
    "        # Get the token embeddings\n",
    "        tok_embeds = self.tok_emb(in_idx)          # (batch_size, seq_len, emb_dim)\n",
    "        # Get the position embeddings\n",
    "        pos_embeds = self.pos_emb(torch.arange(seq_len, device=in_idx.device)) # (seq_len, emb_dim)\n",
    "        x = tok_embeds + pos_embeds   # (batch_size, seq_len, emb_dim)\n",
    "        x = self.drop_emb(x)          # (batch_size, seq_len, emb_dim)\n",
    "        x = self.trf_blocks(x)        # (batch_size, seq_len, emb_dim)\n",
    "        x = self.final_norm(x)        # (batch_size, seq_len, emb_dim)\n",
    "        return self.out_head(x)     # (batch_size, seq_len, vocab_size)\n"
   ],
   "id": "8160cb17a4ae5690",
   "outputs": [],
   "execution_count": 2
  },
  {
   "metadata": {},
   "cell_type": "markdown",
   "source": [
    "Next we will prepare some input data to test the model following are the steps we will take\n",
    "![test](./Flow.png)"
   ],
   "id": "e1a9e26a981467d4"
  },
  {
   "metadata": {
    "ExecuteTime": {
     "end_time": "2025-09-05T04:55:17.219564Z",
     "start_time": "2025-09-05T04:55:17.032602Z"
    }
   },
   "cell_type": "code",
   "source": [
    "import tiktoken\n",
    "import torch\n",
    "tokenizer = tiktoken.get_encoding(\"gpt2\")\n",
    "batch = []\n",
    "txt1 = \"Every effort moves you\"\n",
    "txt2 = \"Every day holds a\"\n",
    "batch.append(torch.tensor(tokenizer.encode(txt1)))\n",
    "batch.append(torch.tensor(tokenizer.encode(txt2)))\n",
    "batch = torch.stack(batch, dim=0)\n",
    "# Both sentences are 4 tokens each , stack requires both of them to have same shape\n",
    "print(batch)\n"
   ],
   "id": "2c3a0885c75b8aab",
   "outputs": [
    {
     "name": "stdout",
     "output_type": "stream",
     "text": [
      "tensor([[6109, 3626, 6100,  345],\n",
      "        [6109, 1110, 6622,  257]])\n"
     ]
    }
   ],
   "execution_count": 3
  },
  {
   "metadata": {
    "ExecuteTime": {
     "end_time": "2025-09-05T04:55:18.125603Z",
     "start_time": "2025-09-05T04:55:18.121263Z"
    }
   },
   "cell_type": "code",
   "source": [
    "import torch\n",
    "\n",
    "torch.manual_seed(123)\n",
    "batch_example = torch.randn(2, 5)\n",
    "layer = nn.Sequential(nn.Linear(5, 6), nn.ReLU())\n",
    "out = layer(batch_example)\n",
    "print(out)"
   ],
   "id": "f7067597d9628a5c",
   "outputs": [
    {
     "name": "stdout",
     "output_type": "stream",
     "text": [
      "tensor([[0.2260, 0.3470, 0.0000, 0.2216, 0.0000, 0.0000],\n",
      "        [0.2133, 0.2394, 0.0000, 0.5198, 0.3297, 0.0000]],\n",
      "       grad_fn=<ReluBackward0>)\n"
     ]
    }
   ],
   "execution_count": 4
  },
  {
   "metadata": {},
   "cell_type": "markdown",
   "source": "Lets instantiate a new 124M model and pass the input data through it",
   "id": "f0f105fcead06721"
  },
  {
   "metadata": {
    "ExecuteTime": {
     "end_time": "2025-09-05T04:55:19.934906Z",
     "start_time": "2025-09-05T04:55:19.393823Z"
    }
   },
   "cell_type": "code",
   "source": [
    "torch.manual_seed(123)\n",
    "model = DummyGPTModel(GPT_CONFIG_124M)\n",
    "logits = model(batch)\n",
    "print(\"Output shape:\", logits.shape)\n",
    "print(logits)"
   ],
   "id": "55b08ea35b091cb1",
   "outputs": [
    {
     "name": "stdout",
     "output_type": "stream",
     "text": [
      "Output shape: torch.Size([2, 4, 50257])\n",
      "tensor([[[-1.2034,  0.3201, -0.7130,  ..., -1.5548, -0.2390, -0.4667],\n",
      "         [-0.1192,  0.4539, -0.4432,  ...,  0.2392,  1.3469,  1.2430],\n",
      "         [ 0.5307,  1.6720, -0.4695,  ...,  1.1966,  0.0111,  0.5835],\n",
      "         [ 0.0139,  1.6754, -0.3388,  ...,  1.1586, -0.0435, -1.0400]],\n",
      "\n",
      "        [[-1.0908,  0.1798, -0.9484,  ..., -1.6047,  0.2439, -0.4530],\n",
      "         [-0.7860,  0.5581, -0.0610,  ...,  0.4835, -0.0077,  1.6621],\n",
      "         [ 0.3567,  1.2698, -0.6398,  ..., -0.0162, -0.1296,  0.3717],\n",
      "         [-0.2407, -0.7349, -0.5102,  ...,  2.0057, -0.3694,  0.1814]]],\n",
      "       grad_fn=<UnsafeViewBackward0>)\n"
     ]
    }
   ],
   "execution_count": 5
  },
  {
   "metadata": {},
   "cell_type": "markdown",
   "source": [
    "Notice we have ``(batch_size, seq_len, vocab_size)`` as the output shape, ``seq_len`` is same as number of tokens in input and each token is represented by a vector of size vocab_size. This is because for each token in the input we are predicting the next token from the entire vocabulary.\n",
    "The post-processing code will convert these tokens back to words in our vocabulary and form sentences.\n",
    "\n",
    "\n",
    "With a top down look of everything, we will now start implementing the missing pieces one by one. We will start with ``LayerNorm``\n",
    "\n",
    "### Normalizing activations with layer normalization\n",
    "\n",
    "Main idea behind Layer normalization is to improve the stability and efficiency of neural network training by normalizing the inputs across the features for each data point. This leads to faster convergence and better generalization. The activation outputs are normalized to have a mean of zero and a standard deviation of one.\n",
    "\n",
    "![test](./Normalization.png)\n",
    "\n",
    "Lets see what normalization does to a random tensor\n"
   ],
   "id": "96a2af8c87ce61f8"
  },
  {
   "metadata": {
    "ExecuteTime": {
     "end_time": "2025-09-05T04:55:21.228608Z",
     "start_time": "2025-09-05T04:55:21.224583Z"
    }
   },
   "cell_type": "code",
   "source": [
    "import torch\n",
    "\n",
    "torch.manual_seed(123)\n",
    "batch_example = torch.randn(2, 5)\n",
    "layer = nn.Sequential(nn.Linear(5, 6), nn.ReLU())\n",
    "out = layer(batch_example)\n",
    "print(out)\n",
    "mean = torch.mean(out, dim = -1, keepdim = True)\n",
    "var = torch.var(out, dim = -1, keepdim = True)\n",
    "print(f\"Mean is {mean}\")\n",
    "print(f\"Variance is {var}\")\n",
    "\n"
   ],
   "id": "eb6e4a263e158fd4",
   "outputs": [
    {
     "name": "stdout",
     "output_type": "stream",
     "text": [
      "tensor([[0.2260, 0.3470, 0.0000, 0.2216, 0.0000, 0.0000],\n",
      "        [0.2133, 0.2394, 0.0000, 0.5198, 0.3297, 0.0000]],\n",
      "       grad_fn=<ReluBackward0>)\n",
      "Mean is tensor([[0.1324],\n",
      "        [0.2170]], grad_fn=<MeanBackward1>)\n",
      "Variance is tensor([[0.0231],\n",
      "        [0.0398]], grad_fn=<VarBackward0>)\n"
     ]
    }
   ],
   "execution_count": 6
  },
  {
   "metadata": {},
   "cell_type": "markdown",
   "source": "Now we can normalize the output using the mean and variance we just calculated, this is done by shifting the mean and scaling the results with standard deviation (square root of variance).",
   "id": "ce85ccfd810f08a6"
  },
  {
   "metadata": {
    "ExecuteTime": {
     "end_time": "2025-09-05T04:55:22.705692Z",
     "start_time": "2025-09-05T04:55:22.702667Z"
    }
   },
   "cell_type": "code",
   "source": [
    "torch.set_printoptions(sci_mode=False)\n",
    "out_norm = (out - mean) / torch.sqrt(var) # torch.sqrt(var) is same as torch.std(out)\n",
    "norm_mean = torch.mean(out_norm, dim = -1, keepdim = True)\n",
    "norm_var = torch.var(out_norm, dim = -1, keepdim = True)\n",
    "print(f\"Mean after normalization is {norm_mean}\")\n",
    "print(f\"Variance after normalization is {norm_var}\")"
   ],
   "id": "1663d95bd0db6f8a",
   "outputs": [
    {
     "name": "stdout",
     "output_type": "stream",
     "text": [
      "Mean after normalization is tensor([[    -0.0000],\n",
      "        [     0.0000]], grad_fn=<MeanBackward1>)\n",
      "Variance after normalization is tensor([[1.0000],\n",
      "        [1.0000]], grad_fn=<VarBackward0>)\n"
     ]
    }
   ],
   "execution_count": 7
  },
  {
   "metadata": {
    "ExecuteTime": {
     "end_time": "2025-09-03T04:37:11.744380Z",
     "start_time": "2025-09-03T04:37:11.741446Z"
    }
   },
   "cell_type": "markdown",
   "source": [
    "Now lets put everything toogether to implement this LayerNorm layer as a class.\n",
    "\n",
    "- `emb_dim`: the dimension of the embedding, that is, the last dimension of the input tensor.\n",
    "- `eps`: a small value to avoid division by zero.\n",
    "- `scale` and `shift`: learnable parameters to scale and shift the normalized output."
   ],
   "id": "454ae4e63b6fe09a"
  },
  {
   "metadata": {
    "ExecuteTime": {
     "end_time": "2025-09-05T04:55:24.888727Z",
     "start_time": "2025-09-05T04:55:24.886367Z"
    }
   },
   "cell_type": "code",
   "source": [
    "import torch.nn as nn\n",
    "class LayerNorm(nn.Module):\n",
    "    def __init__(self, emb_dim, eps = 1e-5):\n",
    "        super().__init__()\n",
    "        self.eps = eps\n",
    "        self.scale = nn.Parameter(torch.ones(emb_dim))\n",
    "        self.shift = nn.Parameter(torch.zeros(emb_dim))\n",
    "\n",
    "    def forward(self, x):\n",
    "        mean_batch = torch.mean(x, dim=-1, keepdim=True)\n",
    "        # unbiased=False means we do not use Bessel's correction, that is, we divide by N instead of N-1 (basel's correction)\n",
    "        var_batch = torch.var(x, dim=-1, keepdim=True, unbiased=False)\n",
    "        norm_x = (x - mean_batch) / torch.sqrt(var_batch + self.eps)\n",
    "        return norm_x * self.scale + self.shift"
   ],
   "id": "ed4198ab09bd4b92",
   "outputs": [],
   "execution_count": 8
  },
  {
   "metadata": {
    "ExecuteTime": {
     "end_time": "2025-09-05T04:55:25.693131Z",
     "start_time": "2025-09-05T04:55:25.689444Z"
    }
   },
   "cell_type": "code",
   "source": [
    "ln = LayerNorm(emb_dim=5)\n",
    "out_ln = ln(batch_example)\n",
    "mean = out_ln.mean(dim=-1, keepdim=True)\n",
    "var = out_ln.var(dim=-1, unbiased=False, keepdim=True)\n",
    "print(\"Mean:\\n\", mean)\n",
    "print(\"Variance:\\n\", var)"
   ],
   "id": "6cc279af3c876f71",
   "outputs": [
    {
     "name": "stdout",
     "output_type": "stream",
     "text": [
      "Mean:\n",
      " tensor([[    -0.0000],\n",
      "        [     0.0000]], grad_fn=<MeanBackward1>)\n",
      "Variance:\n",
      " tensor([[1.0000],\n",
      "        [1.0000]], grad_fn=<VarBackward0>)\n"
     ]
    }
   ],
   "execution_count": 9
  },
  {
   "metadata": {},
   "cell_type": "markdown",
   "source": [
    "Quick note on LayerNorm vs BatchNorm:\n",
    "- LayerNorm normalizes across the features for each individual example, making it suitable for tasks where the batch size may vary or be small.\n",
    "- BatchNorm normalizes across the batch for each feature, making it effective for tasks with large batch sizes. the batch size may vary or be small.\n",
    "\n",
    "We will next look at an activation function called GELU (Gaussian Error Linear Unit) which is used in transformers.\n",
    "This is different from ReLU which we have seen before.\n",
    "\n",
    "### Implement a feed forward network with GELU activation\n",
    "\n",
    "\n",
    "Following is the exact and approximate formula for GELU which is used in transformers, including GPT models. The approximate formula is used in practice for efficiency and is derived using curve fitting.\n",
    "\n",
    "**Exact (using error function):**\n",
    "$$\n",
    "\\mathrm{GELU}(x) = \\frac{x}{2} \\left(1 + \\operatorname{erf}\\left(\\frac{x}{\\sqrt{2}}\\right)\\right)\n",
    "$$\n",
    "**Approximate (using tanh):**\n",
    "$$\n",
    "\\mathrm{GELU}(x) \\approx 0.5x \\left[1 + \\tanh\\left(\\sqrt{\\frac{2}{\\pi}} \\left(x + 0.044715x^3\\right)\\right)\\right]\n",
    "$$\n",
    "\n",
    "The implementation of this GELU module is as follows and is pretty straight forward."
   ],
   "id": "fd122d75e2c5e957"
  },
  {
   "metadata": {
    "ExecuteTime": {
     "end_time": "2025-09-05T04:55:27.030361Z",
     "start_time": "2025-09-05T04:55:27.028278Z"
    }
   },
   "cell_type": "code",
   "source": [
    "import torch\n",
    "import torch.nn as nn\n",
    "class GELU(nn.Module):\n",
    "    def __init__(self):\n",
    "        super().__init__()\n",
    "\n",
    "    def forward(self, x):\n",
    "        return 0.5 * x * (1 + torch.tanh(torch.sqrt(torch.tensor(2 / torch.pi)) * (x + 0.044715 * torch.pow(x, 3))))"
   ],
   "id": "8887222fae8475f9",
   "outputs": [],
   "execution_count": 10
  },
  {
   "metadata": {
    "ExecuteTime": {
     "end_time": "2025-09-05T04:55:27.846217Z",
     "start_time": "2025-09-05T04:55:27.740448Z"
    }
   },
   "cell_type": "code",
   "source": [
    "import matplotlib.pyplot as plt\n",
    "gelu, relu = GELU(), nn.ReLU()\n",
    "#Creates 100 sample data points in the range –3 to 3\n",
    "x = torch.linspace(-3, 3, 100)\n",
    "y_gelu, y_relu = gelu(x), relu(x)\n",
    "plt.figure(figsize=(8, 3))\n",
    "for i, (y, label) in enumerate(zip([y_gelu, y_relu], [\"GELU\", \"ReLU\"]), 1):\n",
    "    plt.subplot(1, 2, i)\n",
    "    plt.plot(x, y)\n",
    "    plt.title(f\"{label} activation function\")\n",
    "    plt.xlabel(\"x\")\n",
    "    plt.ylabel(f\"{label}(x)\")\n",
    "    plt.grid(True)\n",
    "plt.tight_layout()\n",
    "plt.show()"
   ],
   "id": "1ed6ff022e4cc0b1",
   "outputs": [
    {
     "data": {
      "text/plain": [
       "<Figure size 800x300 with 2 Axes>"
      ],
      "image/png": "[encoded data removed]"
     },
     "metadata": {},
     "output_type": "display_data"
    }
   ],
   "execution_count": 11
  },
  {
   "metadata": {},
   "cell_type": "markdown",
   "source": [
    "\n",
    "The smoothness of GELU can lead to better optimization properties during training. In contrast, ReLU has a sharp corner at zero\n",
    "\n",
    "Now lets use the GELU activation in a feed forward network (FFN) which is used in transformers.\n",
    "\n",
    "as we see below, this ``FeedForward`` module plays a crucial role in enhancing the model’s ability to learn from and generalize the data. Although the input and output dimensions of this module are the same, it internally expands the embedding dimension into a higher- dimensional space through the first linear layer. This expansion, followed by a nonlinear GELU activation and then a contraction back to the original dimension with the second linear transformation allows exploration of richer dimension space."
   ],
   "id": "1dda6301cde8129f"
  },
  {
   "metadata": {
    "ExecuteTime": {
     "end_time": "2025-09-05T04:55:29.293014Z",
     "start_time": "2025-09-05T04:55:29.290685Z"
    }
   },
   "cell_type": "code",
   "source": [
    "import torch\n",
    "import torch.nn as nn\n",
    "class FeedForward(nn.Module):\n",
    "    def __init__(self, cfg, hidden_layer_dim_factor = 4):\n",
    "        super().__init__()\n",
    "        emb_dim = cfg[\"emb_dim\"]\n",
    "        self.layers = nn.Sequential(\n",
    "            nn.Linear(emb_dim, hidden_layer_dim_factor * emb_dim),\n",
    "            GELU(),\n",
    "            nn.Linear(hidden_layer_dim_factor * emb_dim, emb_dim)\n",
    "        )\n",
    "\n",
    "    def forward(self, in_batch):\n",
    "        return self.layers(in_batch)"
   ],
   "id": "8f508321805a70e2",
   "outputs": [],
   "execution_count": 12
  },
  {
   "metadata": {},
   "cell_type": "markdown",
   "source": [
    "We will now look at the final part of the blocks, which is\n",
    "\n",
    "### Adding the shortcut connections\n",
    "\n",
    "Originally shortcut connections were introduced in ResNets to help with the vanishing gradient problem in very deep networks. They allow gradients to flow more easily through the network during backpropagation, making it easier to train deep models. In transformers, shortcut connections help preserve the original input information and improve gradient flow, which is crucial for training stability and performance.\n",
    "\n",
    "Following image shows gow the shortcut connections create an alternative, shorter path for the gradient to flow through the networl by skipping one or more layers.\n",
    "![test](./Shortcut.png)\n",
    "\n",
    "\n",
    "Lets demonstrate this concept by implementing this ``ExampleDeepNeuralNetwork``"
   ],
   "id": "5eec20c74822df63"
  },
  {
   "metadata": {
    "ExecuteTime": {
     "end_time": "2025-09-05T04:55:30.505951Z",
     "start_time": "2025-09-05T04:55:30.503348Z"
    }
   },
   "cell_type": "code",
   "source": [
    "import torch\n",
    "import torch.nn as nn\n",
    "class ExampleDeepNeuralNetwork(nn.Module):\n",
    "    def __init__(self, layer_sizes, use_shortcut):\n",
    "        super().__init__()\n",
    "        self.use_shortcut = use_shortcut\n",
    "        self.layers = nn.ModuleList([\n",
    "            nn.Sequential(nn.Linear(layer_sizes[idx - 1], layer_sizes[idx]), GELU()) for idx in range(1, len(layer_sizes))\n",
    "        ])\n",
    "\n",
    "    def forward(self, x):\n",
    "        for layer in self.layers:\n",
    "            layer_output = layer(x)\n",
    "            # The second condition ensures that we only add the shortcut when the dimensions match and not all layers\n",
    "            x = x + layer_output if self.use_shortcut and x.shape == layer_output.shape else layer_output\n",
    "        return x\n"
   ],
   "id": "b1d9e055f8a0935d",
   "outputs": [],
   "execution_count": 13
  },
  {
   "metadata": {},
   "cell_type": "markdown",
   "source": "Lets examine how the gradients flow through the network with and without shortcut connections. We will create two instances of the `ExampleDeepNeuralNetwork` class: one with shortcut connections enabled and another without them. We will then perform a forward pass followed by a backward pass to compute gradients, and finally, we will inspect the gradients of the input layer to see how they differ in both cases.",
   "id": "bcc39bffacdb9b96"
  },
  {
   "metadata": {
    "ExecuteTime": {
     "end_time": "2025-09-05T04:55:32.038743Z",
     "start_time": "2025-09-05T04:55:32.008616Z"
    }
   },
   "cell_type": "code",
   "source": [
    "def print_gradients(model, x):\n",
    "    output = model(x)\n",
    "    target = torch.tensor([[0.]])\n",
    "    loss = nn.MSELoss()\n",
    "    loss = loss(output, target)\n",
    "    loss.backward()\n",
    "    for name, param in model.named_parameters():\n",
    "        if 'weight' in name:\n",
    "            print(f\"{name} has gradient mean of {param.grad.abs().mean().item()}\")\n",
    "\n",
    "layer_sizes = [3, 3, 3, 3, 3, 1]\n",
    "sample_input = torch.tensor([[1., 0., -1.]])\n",
    "torch.manual_seed(123)\n",
    "model_without_shortcut = ExampleDeepNeuralNetwork(layer_sizes, use_shortcut=False)\n",
    "print_gradients(model_without_shortcut, sample_input)"
   ],
   "id": "9071775221bc0ed9",
   "outputs": [
    {
     "name": "stdout",
     "output_type": "stream",
     "text": [
      "layers.0.0.weight has gradient mean of 0.00020173587836325169\n",
      "layers.1.0.weight has gradient mean of 0.00012011159560643137\n",
      "layers.2.0.weight has gradient mean of 0.0007152039906941354\n",
      "layers.3.0.weight has gradient mean of 0.0013988736318424344\n",
      "layers.4.0.weight has gradient mean of 0.005049645435065031\n"
     ]
    }
   ],
   "execution_count": 14
  },
  {
   "metadata": {},
   "cell_type": "markdown",
   "source": "As we see above how the gradients get smaller and smaller as we progress backward (layer 4 to layer 0) when we do not use shortcut connections, this is because of the vanishing gradient problem. Now lets see how the gradients look when we use shortcut connections.",
   "id": "594679a1ecac0d33"
  },
  {
   "metadata": {
    "ExecuteTime": {
     "end_time": "2025-09-05T04:55:33.463862Z",
     "start_time": "2025-09-05T04:55:33.459844Z"
    }
   },
   "cell_type": "code",
   "source": [
    "torch.manual_seed(123)\n",
    "model_without_shortcut = ExampleDeepNeuralNetwork(layer_sizes, use_shortcut=True)\n",
    "print_gradients(model_without_shortcut, sample_input)"
   ],
   "id": "9f760b43d2c382c",
   "outputs": [
    {
     "name": "stdout",
     "output_type": "stream",
     "text": [
      "layers.0.0.weight has gradient mean of 0.22169792652130127\n",
      "layers.1.0.weight has gradient mean of 0.20694106817245483\n",
      "layers.2.0.weight has gradient mean of 0.32896995544433594\n",
      "layers.3.0.weight has gradient mean of 0.2665732204914093\n",
      "layers.4.0.weight has gradient mean of 1.3258540630340576\n"
     ]
    }
   ],
   "execution_count": 15
  },
  {
   "metadata": {},
   "cell_type": "markdown",
   "source": [
    "As we see above the gradients are more stable and do not vanish when we use shortcut connections. This stability in gradients helps in better training of deep networks.\n",
    "\n",
    "### Coding the attention and linear layers in a transformer block\n",
    "\n",
    "Following is how the transformer block looks like, we will implement the missing pieces one by one.\n",
    "![test](./Transformer.png)\n",
    "\n",
    "Lets recap and (copy over) the MultiHeadAttention class we implemented in chapter 3."
   ],
   "id": "a9d897193a7ac68c"
  },
  {
   "metadata": {
    "ExecuteTime": {
     "end_time": "2025-09-07T05:00:04.427240Z",
     "start_time": "2025-09-07T05:00:04.422429Z"
    }
   },
   "cell_type": "code",
   "source": [
    "import torch\n",
    "import torch.nn as nn\n",
    "\n",
    "class MultiHeadAttention(nn.Module):\n",
    "    def __init__(self, d_in, d_out, context_length, dropout, num_heads, qkv_bias=False):\n",
    "        super().__init__()\n",
    "        assert (d_out % num_heads == 0), \"d_out must be divisible by num_heads\"\n",
    "        self.d_out = d_out\n",
    "        self.num_heads = num_heads\n",
    "        self.head_dim = d_out // num_heads\n",
    "        self.W_query = nn.Linear(d_in, d_out, bias=qkv_bias)\n",
    "        self.W_key = nn.Linear(d_in, d_out, bias=qkv_bias)\n",
    "        self.W_value = nn.Linear(d_in, d_out, bias=qkv_bias)\n",
    "        self.dropout = nn.Dropout(dropout)\n",
    "        # This is new, we will add an optional Linear layer to project the output.\n",
    "        self.out_proj = nn.Linear(d_out, d_out)\n",
    "        self.register_buffer(\"mask\", torch.triu(torch.ones(context_length, context_length), diagonal=1))\n",
    "\n",
    "    def forward(self, x):\n",
    "        b, num_tokens, d_in_ca = x.shape\n",
    "        keys_mha = self.W_key(x)       # (b, num_tokens, d_out)\n",
    "        values_mha = self.W_value(x)   # (b, num_tokens, d_out)\n",
    "        queries_mha = self.W_query(x)  # (b, num_tokens, d_out)\n",
    "\n",
    "        # d_out is same as num_heads * head_dim\n",
    "        # view reshapes the tensor without changing its data, in this case we project the\n",
    "        # last d_out dimension to (num_heads, head_dim)\n",
    "        keys_mha = keys_mha.view(b, num_tokens, self.num_heads, self.head_dim) # (b, num_tokens, num_heads, head_dim)\n",
    "        values_mha = values_mha.view(b, num_tokens, self.num_heads, self.head_dim) # (b, num_tokens, num_heads, head_dim)\n",
    "        queries_mha = queries_mha.view(b, num_tokens, self.num_heads, self.head_dim) # (b, num_tokens, num_heads, head_dim)\n",
    "\n",
    "        # To calculation the attention score, we need the last two dimensions to be num_tokens and head_dim\n",
    "        # thus we need to transpose the 1st and 2nd dimensions\n",
    "        queries_mha.transpose_(1, 2)  # (b, num_heads, num_tokens, head_dim)\n",
    "        keys_mha.transpose_(1, 2)     # (b, num_heads, num_tokens, head_dim)\n",
    "        values_mha.transpose_(1, 2)   # (b, num_heads, num_tokens, head_dim)\n",
    "\n",
    "         # Let calculate the attention scores, this is the dot product of queries and keys\n",
    "        attn_scores_mha = queries_mha @ keys_mha.transpose(-2, -1) # (b, num_heads, num_tokens, num_tokens)\n",
    "\n",
    "        # Apply the mask, the dimensions of the attn scores are still (b, num_heads, num_tokens, num_tokens)\n",
    "        #  the mask is 2D and is applied to the last two dimensions only\n",
    "        attn_scores_mha.masked_fill_(self.mask.bool()[:num_tokens, :num_tokens], -torch.inf) #(b, num_heads, num_tokens, num_tokens)\n",
    "        attn_weights_mha = torch.softmax(attn_scores_mha / self.head_dim ** 0.5, dim=-1) #(b, num_heads, num_tokens, num_tokens)\n",
    "        # Apply dropout to the attention weights\n",
    "        attn_weights_mha = self.dropout(attn_weights_mha) # (b, num_heads, num_tokens, num_tokens)\n",
    "        # attn_weights_mha @ values_mha gives (b, num_heads, num_tokens, head_dim)\n",
    "        # We need to transpose the 1st and 2nd (both 0 indexed) dimensions to get (b, num_tokens, num_heads, head_dim)\n",
    "        context_vecs_mha = (attn_weights_mha @ values_mha).transpose(1,2) # (b, num_tokens, num_heads, head_dim)\n",
    "        # We will reshape the context vectors back to (b, num_tokens, d_out) where d_out = num_heads * head_dim\n",
    "        context_vecs_mha = context_vecs_mha.contiguous().view(b, num_tokens, self.d_out) # (b, num_tokens, d_out)\n",
    "        # Finally we will project the output using the out_proj layer\n",
    "        context_vecs_mha = self.out_proj(context_vecs_mha)\n",
    "        return context_vecs_mha\n",
    "\n"
   ],
   "id": "b008fbee7e3fc98",
   "outputs": [],
   "execution_count": 20
  },
  {
   "metadata": {
    "ExecuteTime": {
     "end_time": "2025-09-07T05:06:23.916375Z",
     "start_time": "2025-09-07T05:06:23.912261Z"
    }
   },
   "cell_type": "code",
   "source": [
    "class TransformerBlock(nn.Module):\n",
    "\n",
    "    def __init__(self, cfg):\n",
    "        super().__init__()\n",
    "        self.att = MultiHeadAttention(\n",
    "            d_in=cfg[\"emb_dim\"],\n",
    "            d_out=cfg[\"emb_dim\"],\n",
    "            context_length=cfg[\"context_length\"],\n",
    "            dropout=cfg[\"drop_rate\"],\n",
    "            num_heads=cfg[\"n_heads\"],\n",
    "            qkv_bias=cfg[\"qkv_bias\"]\n",
    "        )\n",
    "        self.dropout_shortcut = nn.Dropout(cfg[\"drop_rate\"])\n",
    "        self.norm1 = LayerNorm(cfg[\"emb_dim\"])\n",
    "        self.norm2 = LayerNorm(cfg[\"emb_dim\"])\n",
    "        self.ff = FeedForward(cfg)\n",
    "\n",
    "    def forward(self, x):\n",
    "        shortcut = x\n",
    "        x = self.norm1(x)\n",
    "        x = self.att(x)\n",
    "        x = self.dropout_shortcut(x)\n",
    "        x = x + shortcut\n",
    "\n",
    "        shortcut = x\n",
    "        x = self.norm2(x)\n",
    "        x = self.ff(x)\n",
    "        x = self.dropout_shortcut(x)\n",
    "        x = x + shortcut\n",
    "        return x"
   ],
   "id": "84973781b523a83",
   "outputs": [],
   "execution_count": 23
  },
  {
   "metadata": {
    "ExecuteTime": {
     "end_time": "2025-09-07T05:06:24.797900Z",
     "start_time": "2025-09-07T05:06:24.756435Z"
    }
   },
   "cell_type": "code",
   "source": [
    "torch.manual_seed(123)\n",
    "x = torch.rand(2, 4, 768)\n",
    "block = TransformerBlock(GPT_CONFIG_124M)\n",
    "output = block(x)\n",
    "print(\"Input shape:\", x.shape)\n",
    "print(\"Output shape:\", output.shape)"
   ],
   "id": "13807382ad38303c",
   "outputs": [
    {
     "name": "stdout",
     "output_type": "stream",
     "text": [
      "Input shape: torch.Size([2, 4, 768])\n",
      "Output shape: torch.Size([2, 4, 768])\n"
     ]
    }
   ],
   "execution_count": 24
  },
  {
   "metadata": {},
   "cell_type": "markdown",
   "source": [
    "As we see above the input and output shapes are the same, which is expected as the transformer block does not change the dimensions of the input.\n",
    "\n",
    "\n",
    "Next, we will code the entire GPT model using the `TransformerBlock` we just implemented.\n",
    "\n",
    "### Coding the GPT model\n",
    "\n",
    "Lets look at the final structure of the GPT Model we plan to build\n",
    "\n",
    "![test](./FinalModel.png)"
   ],
   "id": "3dcdf5d8b7eb48a3"
  },
  {
   "metadata": {
    "ExecuteTime": {
     "end_time": "2025-09-08T04:56:30.425697Z",
     "start_time": "2025-09-08T04:56:30.421060Z"
    }
   },
   "cell_type": "code",
   "source": [
    "import torch\n",
    "import torch.nn as nn\n",
    "class GPTModel(nn.Module):\n",
    "\n",
    "    def __init__(self, cfg):\n",
    "        super().__init__()\n",
    "        self.tok_emb = nn.Embedding(cfg[\"vocab_size\"], cfg[\"emb_dim\"])\n",
    "        self.pos_emb = nn.Embedding(cfg[\"context_length\"], cfg[\"emb_dim\"])\n",
    "        self.drop_emb = nn.Dropout(cfg[\"drop_rate\"])\n",
    "        self.trf_blocks = nn.Sequential(*[TransformerBlock(cfg) for _ in range(cfg[\"n_layers\"])])\n",
    "        self.final_norm = LayerNorm(cfg[\"emb_dim\"])\n",
    "        self.out_head = nn.Linear(cfg[\"emb_dim\"], cfg[\"vocab_size\"], bias=False)\n",
    "\n",
    "    def forward(self, in_idx):\n",
    "        batch_size, seq_len = in_idx.shape\n",
    "        tok_embeds = self.tok_emb(in_idx)\n",
    "        pos_embeds = self.pos_emb(torch.arange(seq_len, device=in_idx.device))\n",
    "        x = tok_embeds + pos_embeds\n",
    "        x = self.drop_emb(x)\n",
    "        x = self.trf_blocks(x)\n",
    "        x = self.final_norm(x)\n",
    "        return self.out_head(x)"
   ],
   "id": "f6c7f6a85710a25",
   "outputs": [],
   "execution_count": 33
  },
  {
   "metadata": {
    "ExecuteTime": {
     "end_time": "2025-09-08T04:55:20.530762Z",
     "start_time": "2025-09-08T04:55:20.528273Z"
    }
   },
   "cell_type": "markdown",
   "source": "Lets look at the GPT2 config once again",
   "id": "fb01adacff73caa4"
  },
  {
   "metadata": {
    "ExecuteTime": {
     "end_time": "2025-09-08T04:56:31.409614Z",
     "start_time": "2025-09-08T04:56:31.407551Z"
    }
   },
   "cell_type": "code",
   "source": "GPT_CONFIG_124M\n",
   "id": "a066ba89c36dff7e",
   "outputs": [
    {
     "data": {
      "text/plain": [
       "{'vocab_size': 50257,\n",
       " 'context_length': 1024,\n",
       " 'emb_dim': 768,\n",
       " 'n_heads': 12,\n",
       " 'n_layers': 12,\n",
       " 'drop_rate': 0.1,\n",
       " 'qkv_bias': False}"
      ]
     },
     "execution_count": 34,
     "metadata": {},
     "output_type": "execute_result"
    }
   ],
   "execution_count": 34
  },
  {
   "metadata": {
    "ExecuteTime": {
     "end_time": "2025-09-08T04:56:32.735304Z",
     "start_time": "2025-09-08T04:56:31.802865Z"
    }
   },
   "cell_type": "code",
   "source": [
    "torch.manual_seed(123)\n",
    "model = GPTModel(GPT_CONFIG_124M)\n",
    "out = model(batch)\n",
    "print(\"Input batch:\\n\", batch)\n",
    "print(\"\\nOutput shape:\", out.shape)\n",
    "print(out)"
   ],
   "id": "b503700f4c0b0d2c",
   "outputs": [
    {
     "name": "stdout",
     "output_type": "stream",
     "text": [
      "Input batch:\n",
      " tensor([[6109, 3626, 6100,  345],\n",
      "        [6109, 1110, 6622,  257]])\n",
      "\n",
      "Output shape: torch.Size([2, 4, 50257])\n",
      "tensor([[[ 0.3613,  0.4222, -0.0711,  ...,  0.3483,  0.4661, -0.2838],\n",
      "         [-0.1792, -0.5660, -0.9485,  ...,  0.0477,  0.5181, -0.3168],\n",
      "         [ 0.7120,  0.0332,  0.1085,  ...,  0.1018, -0.4327, -0.2553],\n",
      "         [-1.0076,  0.3418, -0.1190,  ...,  0.7195,  0.4023,  0.0532]],\n",
      "\n",
      "        [[-0.2564,  0.0900,  0.0335,  ...,  0.2659,  0.4454, -0.6806],\n",
      "         [ 0.1230,  0.3653, -0.2074,  ...,  0.7705,  0.2710,  0.2246],\n",
      "         [ 1.0558,  1.0318, -0.2800,  ...,  0.6936,  0.3205, -0.3178],\n",
      "         [-0.1565,  0.3926,  0.3288,  ...,  1.2630, -0.1858,  0.0388]]],\n",
      "       grad_fn=<UnsafeViewBackward0>)\n"
     ]
    }
   ],
   "execution_count": 35
  },
  {
   "metadata": {},
   "cell_type": "markdown",
   "source": "Lets now look at how many parameters our model has\n",
   "id": "e4a62906c3947d8f"
  },
  {
   "metadata": {
    "ExecuteTime": {
     "end_time": "2025-09-08T04:57:57.496164Z",
     "start_time": "2025-09-08T04:57:57.493658Z"
    }
   },
   "cell_type": "code",
   "source": [
    "total_params = sum(p.numel() for p in model.parameters())\n",
    "print(f\"Total number of parameters: {total_params:,}\")"
   ],
   "id": "fb088bbbcbed9761",
   "outputs": [
    {
     "name": "stdout",
     "output_type": "stream",
     "text": [
      "Total number of parameters: 163,009,536\n"
     ]
    }
   ],
   "execution_count": 36
  },
  {
   "metadata": {},
   "cell_type": "markdown",
   "source": [
    "We see the above nmodel has 163M parameters where as GPT2 has 124M parameters. This is because our output linear layer has separate weights where we GPT2 uses a concept called Weight Tying to reduce the number of parameters. This means the token embedding layer and the output linear layer share the same weights.\n",
    "\n",
    "Lets see how that math adds up"
   ],
   "id": "22a4029dfe7824be"
  },
  {
   "metadata": {
    "ExecuteTime": {
     "end_time": "2025-09-08T05:03:56.298321Z",
     "start_time": "2025-09-08T05:03:56.295598Z"
    }
   },
   "cell_type": "code",
   "source": [
    "print(\"Token embedding layer shape:\", model.tok_emb.weight.shape)\n",
    "print(\"Output layer shape:\", model.out_head.weight.shape)"
   ],
   "id": "187ac8012b3f36ac",
   "outputs": [
    {
     "name": "stdout",
     "output_type": "stream",
     "text": [
      "Token embedding layer shape: torch.Size([50257, 768])\n",
      "Output layer shape: torch.Size([50257, 768])\n"
     ]
    }
   ],
   "execution_count": 42
  },
  {
   "metadata": {
    "ExecuteTime": {
     "end_time": "2025-09-08T05:04:47.985704Z",
     "start_time": "2025-09-08T05:04:47.983568Z"
    }
   },
   "cell_type": "code",
   "source": [
    "total_params_gpt2 = total_params - model.out_head.weight.numel()\n",
    "print(f\"Number of trainable parameters \"\n",
    "      f\"considering weight tying: {total_params_gpt2:,}\"\n",
    ")"
   ],
   "id": "83a59e7d464c526a",
   "outputs": [
    {
     "name": "stdout",
     "output_type": "stream",
     "text": [
      "Number of trainable parameters considering weight tying: 124,412,160\n"
     ]
    }
   ],
   "execution_count": 45
  },
  {
   "metadata": {},
   "cell_type": "markdown",
   "source": [
    "What we see above matches the number of parameters in GPT2-124M model.\n",
    "\n",
    "TODO: Ex 4.1\n",
    "\n",
    "Lets calculate the memory requirements for training the model, assuming each paramater needs a 32 bit float32 we will need\n",
    "\n"
   ],
   "id": "c47d19a46a98773a"
  },
  {
   "metadata": {
    "ExecuteTime": {
     "end_time": "2025-09-08T05:06:35.538506Z",
     "start_time": "2025-09-08T05:06:35.535951Z"
    }
   },
   "cell_type": "code",
   "source": [
    "total_size_bytes = total_params * 4\n",
    "total_size_mb = total_size_bytes / (1024 * 1024)\n",
    "print(f\"Total size of the model: {total_size_mb:.2f} MB\")"
   ],
   "id": "4b49a1a5f470caeb",
   "outputs": [
    {
     "name": "stdout",
     "output_type": "stream",
     "text": [
      "Total size of the model: 621.83 MB\n"
     ]
    }
   ],
   "execution_count": 46
  },
  {
   "metadata": {},
   "cell_type": "markdown",
   "source": [
    "TODO: Ex 4.2\n",
    "\n",
    "### Generating Text\n",
    "\n"
   ],
   "id": "b9703cc8b3971c97"
  }
 ],
 "metadata": {
  "kernelspec": {
   "display_name": "Python 3",
   "language": "python",
   "name": "python3"
  },
  "language_info": {
   "codemirror_mode": {
    "name": "ipython",
    "version": 2
   },
   "file_extension": ".py",
   "mimetype": "text/x-python",
   "name": "python",
   "nbconvert_exporter": "python",
   "pygments_lexer": "ipython2",
   "version": "2.7.6"
  }
 },
 "nbformat": 4,
 "nbformat_minor": 5
}
