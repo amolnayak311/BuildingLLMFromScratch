{
 "cells": [
  {
   "metadata": {
    "collapsed": true
   },
   "cell_type": "markdown",
   "source": [
    "# Pretraining on unlabeled data\n",
    "\n",
    "In this notebook we will look at the following\n",
    "\n",
    "![test](./ThisChapter.png)\n",
    "\n",
    "We will take (copy over) the ``GPTModel``(and all other dependencies)  we coded previously in this notebook\n",
    "\n"
   ],
   "id": "d3ce4d451a613ef2"
  },
  {
   "metadata": {
    "ExecuteTime": {
     "end_time": "2025-09-24T06:02:53.405844Z",
     "start_time": "2025-09-24T06:02:53.397255Z"
    }
   },
   "cell_type": "code",
   "source": [
    "import torch\n",
    "import torch.nn as nn\n",
    "from numpy.f2py.rules import options\n",
    "from torch.utils.data import Dataset\n",
    "\n",
    "\n",
    "class MultiHeadAttention(nn.Module):\n",
    "    def __init__(self, d_in, d_out, context_length, dropout, num_heads, qkv_bias=False):\n",
    "        super().__init__()\n",
    "        assert (d_out % num_heads == 0), \"d_out must be divisible by num_heads\"\n",
    "        self.d_out = d_out\n",
    "        self.num_heads = num_heads\n",
    "        self.head_dim = d_out // num_heads\n",
    "        self.W_query = nn.Linear(d_in, d_out, bias=qkv_bias)\n",
    "        self.W_key = nn.Linear(d_in, d_out, bias=qkv_bias)\n",
    "        self.W_value = nn.Linear(d_in, d_out, bias=qkv_bias)\n",
    "        self.dropout = nn.Dropout(dropout)\n",
    "        # This is new, we will add an optional Linear layer to project the output.\n",
    "        self.out_proj = nn.Linear(d_out, d_out)\n",
    "        self.register_buffer(\"mask\", torch.triu(torch.ones(context_length, context_length), diagonal=1))\n",
    "\n",
    "    def forward(self, x):\n",
    "        b, num_tokens, d_in_ca = x.shape\n",
    "        keys_mha = self.W_key(x)       # (b, num_tokens, d_out)\n",
    "        values_mha = self.W_value(x)   # (b, num_tokens, d_out)\n",
    "        queries_mha = self.W_query(x)  # (b, num_tokens, d_out)\n",
    "\n",
    "        # d_out is same as num_heads * head_dim\n",
    "        # view reshapes the tensor without changing its data, in this case we project the\n",
    "        # last d_out dimension to (num_heads, head_dim)\n",
    "        keys_mha = keys_mha.view(b, num_tokens, self.num_heads, self.head_dim) # (b, num_tokens, num_heads, head_dim)\n",
    "        values_mha = values_mha.view(b, num_tokens, self.num_heads, self.head_dim) # (b, num_tokens, num_heads, head_dim)\n",
    "        queries_mha = queries_mha.view(b, num_tokens, self.num_heads, self.head_dim) # (b, num_tokens, num_heads, head_dim)\n",
    "\n",
    "        # To calculation the attention score, we need the last two dimensions to be num_tokens and head_dim\n",
    "        # thus we need to transpose the 1st and 2nd dimensions\n",
    "        queries_mha.transpose_(1, 2)  # (b, num_heads, num_tokens, head_dim)\n",
    "        keys_mha.transpose_(1, 2)     # (b, num_heads, num_tokens, head_dim)\n",
    "        values_mha.transpose_(1, 2)   # (b, num_heads, num_tokens, head_dim)\n",
    "\n",
    "         # Let calculate the attention scores, this is the dot product of queries and keys\n",
    "        attn_scores_mha = queries_mha @ keys_mha.transpose(-2, -1) # (b, num_heads, num_tokens, num_tokens)\n",
    "\n",
    "        # Apply the mask, the dimensions of the attn scores are still (b, num_heads, num_tokens, num_tokens)\n",
    "        #  the mask is 2D and is applied to the last two dimensions only\n",
    "        attn_scores_mha.masked_fill_(self.mask.bool()[:num_tokens, :num_tokens], -torch.inf) #(b, num_heads, num_tokens, num_tokens)\n",
    "        attn_weights_mha = torch.softmax(attn_scores_mha / self.head_dim ** 0.5, dim=-1) #(b, num_heads, num_tokens, num_tokens)\n",
    "        # Apply dropout to the attention weights\n",
    "        attn_weights_mha = self.dropout(attn_weights_mha) # (b, num_heads, num_tokens, num_tokens)\n",
    "        # attn_weights_mha @ values_mha gives (b, num_heads, num_tokens, head_dim)\n",
    "        # We need to transpose the 1st and 2nd (both 0 indexed) dimensions to get (b, num_tokens, num_heads, head_dim)\n",
    "        context_vecs_mha = (attn_weights_mha @ values_mha).transpose(1,2) # (b, num_tokens, num_heads, head_dim)\n",
    "        # We will reshape the context vectors back to (b, num_tokens, d_out) where d_out = num_heads * head_dim\n",
    "        context_vecs_mha = context_vecs_mha.contiguous().view(b, num_tokens, self.d_out) # (b, num_tokens, d_out)\n",
    "        # Finally we will project the output using the out_proj layer\n",
    "        context_vecs_mha = self.out_proj(context_vecs_mha)\n",
    "        return context_vecs_mha\n",
    "\n",
    "\n",
    "class GELU(nn.Module):\n",
    "    def __init__(self):\n",
    "        super().__init__()\n",
    "\n",
    "    def forward(self, x):\n",
    "        return 0.5 * x * (1 + torch.tanh(torch.sqrt(torch.tensor(2 / torch.pi)) * (x + 0.044715 * torch.pow(x, 3))))\n",
    "\n",
    "class LayerNorm(nn.Module):\n",
    "    def __init__(self, emb_dim, eps = 1e-5):\n",
    "        super().__init__()\n",
    "        self.eps = eps\n",
    "        self.scale = nn.Parameter(torch.ones(emb_dim))\n",
    "        self.shift = nn.Parameter(torch.zeros(emb_dim))\n",
    "\n",
    "    def forward(self, x):\n",
    "        mean_batch = torch.mean(x, dim=-1, keepdim=True)\n",
    "        # unbiased=False means we do not use Bessel's correction, that is, we divide by N instead of N-1 (basel's correction)\n",
    "        var_batch = torch.var(x, dim=-1, keepdim=True, unbiased=False)\n",
    "        norm_x = (x - mean_batch) / torch.sqrt(var_batch + self.eps)\n",
    "        return norm_x * self.scale + self.shift\n",
    "\n",
    "\n",
    "class FeedForward(nn.Module):\n",
    "    def __init__(self, cfg, hidden_layer_dim_factor = 4):\n",
    "        super().__init__()\n",
    "        emb_dim = cfg[\"emb_dim\"]\n",
    "        self.layers = nn.Sequential(\n",
    "            nn.Linear(emb_dim, hidden_layer_dim_factor * emb_dim),\n",
    "            GELU(),\n",
    "            nn.Linear(hidden_layer_dim_factor * emb_dim, emb_dim)\n",
    "        )\n",
    "\n",
    "    def forward(self, in_batch):\n",
    "        return self.layers(in_batch)\n",
    "\n",
    "class TransformerBlock(nn.Module):\n",
    "\n",
    "    def __init__(self, cfg):\n",
    "        super().__init__()\n",
    "        self.att = MultiHeadAttention(\n",
    "            d_in=cfg[\"emb_dim\"],\n",
    "            d_out=cfg[\"emb_dim\"],\n",
    "            context_length=cfg[\"context_length\"],\n",
    "            dropout=cfg[\"drop_rate\"],\n",
    "            num_heads=cfg[\"n_heads\"],\n",
    "            qkv_bias=cfg[\"qkv_bias\"]\n",
    "        )\n",
    "        self.dropout_shortcut = nn.Dropout(cfg[\"drop_rate\"])\n",
    "        self.norm1 = LayerNorm(cfg[\"emb_dim\"])\n",
    "        self.norm2 = LayerNorm(cfg[\"emb_dim\"])\n",
    "        self.ff = FeedForward(cfg)\n",
    "\n",
    "    def forward(self, x):\n",
    "        shortcut = x\n",
    "        x = self.norm1(x)\n",
    "        x = self.att(x)\n",
    "        x = self.dropout_shortcut(x)\n",
    "        x = x + shortcut\n",
    "\n",
    "        shortcut = x\n",
    "        x = self.norm2(x)\n",
    "        x = self.ff(x)\n",
    "        x = self.dropout_shortcut(x)\n",
    "        x = x + shortcut\n",
    "        return x\n",
    "\n",
    "\n",
    "class GPTModel(nn.Module):\n",
    "\n",
    "    def __init__(self, cfg):\n",
    "        super().__init__()\n",
    "        self.tok_emb = nn.Embedding(cfg[\"vocab_size\"], cfg[\"emb_dim\"])\n",
    "        self.pos_emb = nn.Embedding(cfg[\"context_length\"], cfg[\"emb_dim\"])\n",
    "        self.drop_emb = nn.Dropout(cfg[\"drop_rate\"])\n",
    "        self.trf_blocks = nn.Sequential(*[TransformerBlock(cfg) for _ in range(cfg[\"n_layers\"])])\n",
    "        self.final_norm = LayerNorm(cfg[\"emb_dim\"])\n",
    "        self.out_head = nn.Linear(cfg[\"emb_dim\"], cfg[\"vocab_size\"], bias=False)\n",
    "\n",
    "    def forward(self, in_idx):\n",
    "        batch_size, seq_len = in_idx.shape\n",
    "        tok_embeds = self.tok_emb(in_idx)\n",
    "        pos_embeds = self.pos_emb(torch.arange(seq_len, device=in_idx.device))\n",
    "        x = tok_embeds + pos_embeds\n",
    "        x = self.drop_emb(x)\n",
    "        x = self.trf_blocks(x)\n",
    "        x = self.final_norm(x)\n",
    "        return self.out_head(x)"
   ],
   "id": "bedf7560edc7c1b0",
   "outputs": [],
   "execution_count": 2
  },
  {
   "metadata": {},
   "cell_type": "markdown",
   "source": "Below we will instantiate the GPT model with the configuration of the smallest GPT-2 model (124M parameters), however we will reduce the context length to 256 for faster training. Additionally we will define two methods ``text_to_token_ids`` and ``token_ids_to_text``",
   "id": "7f5be1d8dc72dd1a"
  },
  {
   "metadata": {
    "ExecuteTime": {
     "end_time": "2025-09-24T06:02:54.203477Z",
     "start_time": "2025-09-24T06:02:53.411598Z"
    }
   },
   "cell_type": "code",
   "source": [
    "GPT_CONFIG_124M = {\n",
    "    \"vocab_size\": 50257,\n",
    "    \"context_length\": 256,  # we will use a smaller context length for faster training, original is 1024\n",
    "    \"emb_dim\": 768,\n",
    "    \"n_heads\": 12,\n",
    "    \"n_layers\": 12,\n",
    "    \"drop_rate\": 0.1,\n",
    "    \"qkv_bias\": False\n",
    "}\n",
    "torch.manual_seed(123)\n",
    "model = GPTModel(GPT_CONFIG_124M)\n",
    "model.eval()"
   ],
   "id": "382dd9cda9bebe55",
   "outputs": [
    {
     "data": {
      "text/plain": [
       "GPTModel(\n",
       "  (tok_emb): Embedding(50257, 768)\n",
       "  (pos_emb): Embedding(256, 768)\n",
       "  (drop_emb): Dropout(p=0.1, inplace=False)\n",
       "  (trf_blocks): Sequential(\n",
       "    (0): TransformerBlock(\n",
       "      (att): MultiHeadAttention(\n",
       "        (W_query): Linear(in_features=768, out_features=768, bias=False)\n",
       "        (W_key): Linear(in_features=768, out_features=768, bias=False)\n",
       "        (W_value): Linear(in_features=768, out_features=768, bias=False)\n",
       "        (dropout): Dropout(p=0.1, inplace=False)\n",
       "        (out_proj): Linear(in_features=768, out_features=768, bias=True)\n",
       "      )\n",
       "      (dropout_shortcut): Dropout(p=0.1, inplace=False)\n",
       "      (norm1): LayerNorm()\n",
       "      (norm2): LayerNorm()\n",
       "      (ff): FeedForward(\n",
       "        (layers): Sequential(\n",
       "          (0): Linear(in_features=768, out_features=3072, bias=True)\n",
       "          (1): GELU()\n",
       "          (2): Linear(in_features=3072, out_features=768, bias=True)\n",
       "        )\n",
       "      )\n",
       "    )\n",
       "    (1): TransformerBlock(\n",
       "      (att): MultiHeadAttention(\n",
       "        (W_query): Linear(in_features=768, out_features=768, bias=False)\n",
       "        (W_key): Linear(in_features=768, out_features=768, bias=False)\n",
       "        (W_value): Linear(in_features=768, out_features=768, bias=False)\n",
       "        (dropout): Dropout(p=0.1, inplace=False)\n",
       "        (out_proj): Linear(in_features=768, out_features=768, bias=True)\n",
       "      )\n",
       "      (dropout_shortcut): Dropout(p=0.1, inplace=False)\n",
       "      (norm1): LayerNorm()\n",
       "      (norm2): LayerNorm()\n",
       "      (ff): FeedForward(\n",
       "        (layers): Sequential(\n",
       "          (0): Linear(in_features=768, out_features=3072, bias=True)\n",
       "          (1): GELU()\n",
       "          (2): Linear(in_features=3072, out_features=768, bias=True)\n",
       "        )\n",
       "      )\n",
       "    )\n",
       "    (2): TransformerBlock(\n",
       "      (att): MultiHeadAttention(\n",
       "        (W_query): Linear(in_features=768, out_features=768, bias=False)\n",
       "        (W_key): Linear(in_features=768, out_features=768, bias=False)\n",
       "        (W_value): Linear(in_features=768, out_features=768, bias=False)\n",
       "        (dropout): Dropout(p=0.1, inplace=False)\n",
       "        (out_proj): Linear(in_features=768, out_features=768, bias=True)\n",
       "      )\n",
       "      (dropout_shortcut): Dropout(p=0.1, inplace=False)\n",
       "      (norm1): LayerNorm()\n",
       "      (norm2): LayerNorm()\n",
       "      (ff): FeedForward(\n",
       "        (layers): Sequential(\n",
       "          (0): Linear(in_features=768, out_features=3072, bias=True)\n",
       "          (1): GELU()\n",
       "          (2): Linear(in_features=3072, out_features=768, bias=True)\n",
       "        )\n",
       "      )\n",
       "    )\n",
       "    (3): TransformerBlock(\n",
       "      (att): MultiHeadAttention(\n",
       "        (W_query): Linear(in_features=768, out_features=768, bias=False)\n",
       "        (W_key): Linear(in_features=768, out_features=768, bias=False)\n",
       "        (W_value): Linear(in_features=768, out_features=768, bias=False)\n",
       "        (dropout): Dropout(p=0.1, inplace=False)\n",
       "        (out_proj): Linear(in_features=768, out_features=768, bias=True)\n",
       "      )\n",
       "      (dropout_shortcut): Dropout(p=0.1, inplace=False)\n",
       "      (norm1): LayerNorm()\n",
       "      (norm2): LayerNorm()\n",
       "      (ff): FeedForward(\n",
       "        (layers): Sequential(\n",
       "          (0): Linear(in_features=768, out_features=3072, bias=True)\n",
       "          (1): GELU()\n",
       "          (2): Linear(in_features=3072, out_features=768, bias=True)\n",
       "        )\n",
       "      )\n",
       "    )\n",
       "    (4): TransformerBlock(\n",
       "      (att): MultiHeadAttention(\n",
       "        (W_query): Linear(in_features=768, out_features=768, bias=False)\n",
       "        (W_key): Linear(in_features=768, out_features=768, bias=False)\n",
       "        (W_value): Linear(in_features=768, out_features=768, bias=False)\n",
       "        (dropout): Dropout(p=0.1, inplace=False)\n",
       "        (out_proj): Linear(in_features=768, out_features=768, bias=True)\n",
       "      )\n",
       "      (dropout_shortcut): Dropout(p=0.1, inplace=False)\n",
       "      (norm1): LayerNorm()\n",
       "      (norm2): LayerNorm()\n",
       "      (ff): FeedForward(\n",
       "        (layers): Sequential(\n",
       "          (0): Linear(in_features=768, out_features=3072, bias=True)\n",
       "          (1): GELU()\n",
       "          (2): Linear(in_features=3072, out_features=768, bias=True)\n",
       "        )\n",
       "      )\n",
       "    )\n",
       "    (5): TransformerBlock(\n",
       "      (att): MultiHeadAttention(\n",
       "        (W_query): Linear(in_features=768, out_features=768, bias=False)\n",
       "        (W_key): Linear(in_features=768, out_features=768, bias=False)\n",
       "        (W_value): Linear(in_features=768, out_features=768, bias=False)\n",
       "        (dropout): Dropout(p=0.1, inplace=False)\n",
       "        (out_proj): Linear(in_features=768, out_features=768, bias=True)\n",
       "      )\n",
       "      (dropout_shortcut): Dropout(p=0.1, inplace=False)\n",
       "      (norm1): LayerNorm()\n",
       "      (norm2): LayerNorm()\n",
       "      (ff): FeedForward(\n",
       "        (layers): Sequential(\n",
       "          (0): Linear(in_features=768, out_features=3072, bias=True)\n",
       "          (1): GELU()\n",
       "          (2): Linear(in_features=3072, out_features=768, bias=True)\n",
       "        )\n",
       "      )\n",
       "    )\n",
       "    (6): TransformerBlock(\n",
       "      (att): MultiHeadAttention(\n",
       "        (W_query): Linear(in_features=768, out_features=768, bias=False)\n",
       "        (W_key): Linear(in_features=768, out_features=768, bias=False)\n",
       "        (W_value): Linear(in_features=768, out_features=768, bias=False)\n",
       "        (dropout): Dropout(p=0.1, inplace=False)\n",
       "        (out_proj): Linear(in_features=768, out_features=768, bias=True)\n",
       "      )\n",
       "      (dropout_shortcut): Dropout(p=0.1, inplace=False)\n",
       "      (norm1): LayerNorm()\n",
       "      (norm2): LayerNorm()\n",
       "      (ff): FeedForward(\n",
       "        (layers): Sequential(\n",
       "          (0): Linear(in_features=768, out_features=3072, bias=True)\n",
       "          (1): GELU()\n",
       "          (2): Linear(in_features=3072, out_features=768, bias=True)\n",
       "        )\n",
       "      )\n",
       "    )\n",
       "    (7): TransformerBlock(\n",
       "      (att): MultiHeadAttention(\n",
       "        (W_query): Linear(in_features=768, out_features=768, bias=False)\n",
       "        (W_key): Linear(in_features=768, out_features=768, bias=False)\n",
       "        (W_value): Linear(in_features=768, out_features=768, bias=False)\n",
       "        (dropout): Dropout(p=0.1, inplace=False)\n",
       "        (out_proj): Linear(in_features=768, out_features=768, bias=True)\n",
       "      )\n",
       "      (dropout_shortcut): Dropout(p=0.1, inplace=False)\n",
       "      (norm1): LayerNorm()\n",
       "      (norm2): LayerNorm()\n",
       "      (ff): FeedForward(\n",
       "        (layers): Sequential(\n",
       "          (0): Linear(in_features=768, out_features=3072, bias=True)\n",
       "          (1): GELU()\n",
       "          (2): Linear(in_features=3072, out_features=768, bias=True)\n",
       "        )\n",
       "      )\n",
       "    )\n",
       "    (8): TransformerBlock(\n",
       "      (att): MultiHeadAttention(\n",
       "        (W_query): Linear(in_features=768, out_features=768, bias=False)\n",
       "        (W_key): Linear(in_features=768, out_features=768, bias=False)\n",
       "        (W_value): Linear(in_features=768, out_features=768, bias=False)\n",
       "        (dropout): Dropout(p=0.1, inplace=False)\n",
       "        (out_proj): Linear(in_features=768, out_features=768, bias=True)\n",
       "      )\n",
       "      (dropout_shortcut): Dropout(p=0.1, inplace=False)\n",
       "      (norm1): LayerNorm()\n",
       "      (norm2): LayerNorm()\n",
       "      (ff): FeedForward(\n",
       "        (layers): Sequential(\n",
       "          (0): Linear(in_features=768, out_features=3072, bias=True)\n",
       "          (1): GELU()\n",
       "          (2): Linear(in_features=3072, out_features=768, bias=True)\n",
       "        )\n",
       "      )\n",
       "    )\n",
       "    (9): TransformerBlock(\n",
       "      (att): MultiHeadAttention(\n",
       "        (W_query): Linear(in_features=768, out_features=768, bias=False)\n",
       "        (W_key): Linear(in_features=768, out_features=768, bias=False)\n",
       "        (W_value): Linear(in_features=768, out_features=768, bias=False)\n",
       "        (dropout): Dropout(p=0.1, inplace=False)\n",
       "        (out_proj): Linear(in_features=768, out_features=768, bias=True)\n",
       "      )\n",
       "      (dropout_shortcut): Dropout(p=0.1, inplace=False)\n",
       "      (norm1): LayerNorm()\n",
       "      (norm2): LayerNorm()\n",
       "      (ff): FeedForward(\n",
       "        (layers): Sequential(\n",
       "          (0): Linear(in_features=768, out_features=3072, bias=True)\n",
       "          (1): GELU()\n",
       "          (2): Linear(in_features=3072, out_features=768, bias=True)\n",
       "        )\n",
       "      )\n",
       "    )\n",
       "    (10): TransformerBlock(\n",
       "      (att): MultiHeadAttention(\n",
       "        (W_query): Linear(in_features=768, out_features=768, bias=False)\n",
       "        (W_key): Linear(in_features=768, out_features=768, bias=False)\n",
       "        (W_value): Linear(in_features=768, out_features=768, bias=False)\n",
       "        (dropout): Dropout(p=0.1, inplace=False)\n",
       "        (out_proj): Linear(in_features=768, out_features=768, bias=True)\n",
       "      )\n",
       "      (dropout_shortcut): Dropout(p=0.1, inplace=False)\n",
       "      (norm1): LayerNorm()\n",
       "      (norm2): LayerNorm()\n",
       "      (ff): FeedForward(\n",
       "        (layers): Sequential(\n",
       "          (0): Linear(in_features=768, out_features=3072, bias=True)\n",
       "          (1): GELU()\n",
       "          (2): Linear(in_features=3072, out_features=768, bias=True)\n",
       "        )\n",
       "      )\n",
       "    )\n",
       "    (11): TransformerBlock(\n",
       "      (att): MultiHeadAttention(\n",
       "        (W_query): Linear(in_features=768, out_features=768, bias=False)\n",
       "        (W_key): Linear(in_features=768, out_features=768, bias=False)\n",
       "        (W_value): Linear(in_features=768, out_features=768, bias=False)\n",
       "        (dropout): Dropout(p=0.1, inplace=False)\n",
       "        (out_proj): Linear(in_features=768, out_features=768, bias=True)\n",
       "      )\n",
       "      (dropout_shortcut): Dropout(p=0.1, inplace=False)\n",
       "      (norm1): LayerNorm()\n",
       "      (norm2): LayerNorm()\n",
       "      (ff): FeedForward(\n",
       "        (layers): Sequential(\n",
       "          (0): Linear(in_features=768, out_features=3072, bias=True)\n",
       "          (1): GELU()\n",
       "          (2): Linear(in_features=3072, out_features=768, bias=True)\n",
       "        )\n",
       "      )\n",
       "    )\n",
       "  )\n",
       "  (final_norm): LayerNorm()\n",
       "  (out_head): Linear(in_features=768, out_features=50257, bias=False)\n",
       ")"
      ]
     },
     "execution_count": 3,
     "metadata": {},
     "output_type": "execute_result"
    }
   ],
   "execution_count": 3
  },
  {
   "metadata": {
    "ExecuteTime": {
     "end_time": "2025-09-24T06:03:02.141821Z",
     "start_time": "2025-09-24T06:02:54.212409Z"
    }
   },
   "cell_type": "code",
   "source": [
    "import tiktoken\n",
    "\n",
    "def generate_text_simple(model, idx,\n",
    "                          max_new_tokens, context_size):\n",
    "    for _ in range(max_new_tokens):\n",
    "        # Take the context_size tokens to predict the next token\n",
    "        idx_cond = idx[:, -context_size:]\n",
    "        with torch.no_grad():  # No need to track gradients\n",
    "            logits = model(idx_cond) # (batch_size, context_size, vocab_size)\n",
    "        # Take the last generated token for this is the next token\n",
    "        logits = logits[:, -1, :] # (batch_size, vocab_size)\n",
    "        probs = torch.softmax(logits, dim=-1) # (batch_size, vocab_size)\n",
    "        idx_next = torch.argmax(probs, dim=-1, keepdim=True) # (batch_size, 1)\n",
    "        idx = torch.cat((idx, idx_next), dim=-1) # (batch_size, current_seq_len + 1)\n",
    "    return idx\n",
    "\n",
    "\n",
    "def text_to_token_ids(text, tokenizer):\n",
    "    encoded = tokenizer.encode(text, allowed_special={'<|endoftext|>'})\n",
    "    return torch.tensor(encoded).unsqueeze(0)  # Add batch dimension\n",
    "\n",
    "def token_ids_to_text(token_ids, tokenizer):\n",
    "    token_ids = token_ids.squeeze(0).tolist()  # Remove batch dimension and convert to list\n",
    "    return tokenizer.decode(token_ids)\n",
    "\n",
    "start_context = \"Every effort moves you\"\n",
    "tokenizer = tiktoken.get_encoding(\"gpt2\")\n",
    "\n",
    "token_ids = generate_text_simple(\n",
    "    model=model,\n",
    "    idx=text_to_token_ids(start_context, tokenizer),\n",
    "    max_new_tokens=10,\n",
    "    context_size=GPT_CONFIG_124M[\"context_length\"]\n",
    "    )\n",
    "print(\"Output text:\\n\", token_ids_to_text(token_ids, tokenizer))"
   ],
   "id": "46d1ee470d38a5dd",
   "outputs": [
    {
     "name": "stdout",
     "output_type": "stream",
     "text": [
      "Output text:\n",
      " Every effort moves you rentingetic wasnم refres RexMeCHicular stren\n"
     ]
    }
   ],
   "execution_count": 4
  },
  {
   "metadata": {
    "ExecuteTime": {
     "end_time": "2025-09-11T04:45:08.658682Z",
     "start_time": "2025-09-11T04:45:08.656379Z"
    }
   },
   "cell_type": "markdown",
   "source": [
    "We can see that the output is not very meaningful, this is because the model is not trained yet. However all our required components are in place.\n",
    "\n",
    "We will next look at loss metric for the generated output\n",
    "\n",
    "### Calculating the text generation loss\n",
    "\n",
    "![test](./TextGenerationSummary.png)\n"
   ],
   "id": "f82a3d839c58b1f7"
  },
  {
   "metadata": {
    "ExecuteTime": {
     "end_time": "2025-09-24T06:03:02.199167Z",
     "start_time": "2025-09-24T06:03:02.196069Z"
    }
   },
   "cell_type": "code",
   "source": [
    "import tiktoken\n",
    "import torch\n",
    "\n",
    "input_text1 = \"every effort moves\"\n",
    "input_text2 = \"I really like\"\n",
    "\n",
    "expected_output_text1 = \" effort moves you\"\n",
    "expected_output_text2 = \" really like chocolate\"\n",
    "\n",
    "tokenizer = tiktoken.get_encoding(\"gpt2\")\n",
    "inputs = torch.vstack([text_to_token_ids(input_text1, tokenizer), text_to_token_ids(input_text2, tokenizer)])\n",
    "print(f\"Input token ids are:\\n{inputs}\")\n",
    "\n",
    "targets = torch.vstack([text_to_token_ids(expected_output_text1, tokenizer), text_to_token_ids(expected_output_text2, tokenizer)])\n",
    "print(f\"Output token ids are:\\n{targets}\")\n"
   ],
   "id": "6dfe1980630bc07f",
   "outputs": [
    {
     "name": "stdout",
     "output_type": "stream",
     "text": [
      "Input token ids are:\n",
      "tensor([[16833,  3626,  6100],\n",
      "        [   40,  1107,   588]])\n",
      "Output token ids are:\n",
      "tensor([[ 3626,  6100,   345],\n",
      "        [ 1107,   588, 11311]])\n"
     ]
    }
   ],
   "execution_count": 5
  },
  {
   "metadata": {},
   "cell_type": "markdown",
   "source": "Lets feed the inputs to the model and get the logits",
   "id": "ac882eb3a43a29e3"
  },
  {
   "metadata": {
    "ExecuteTime": {
     "end_time": "2025-09-24T06:03:02.271420Z",
     "start_time": "2025-09-24T06:03:02.211100Z"
    }
   },
   "cell_type": "code",
   "source": [
    "with torch.no_grad():\n",
    "    logits = model(inputs)\n",
    "print(f\"Logits shape: {logits.shape}\")\n",
    "probas = torch.softmax(logits, dim=-1)\n",
    "print(f\"Probs shape: {probas.shape}\")"
   ],
   "id": "1012c08f1095a8d7",
   "outputs": [
    {
     "name": "stdout",
     "output_type": "stream",
     "text": [
      "Logits shape: torch.Size([2, 3, 50257])\n",
      "Probs shape: torch.Size([2, 3, 50257])\n"
     ]
    }
   ],
   "execution_count": 6
  },
  {
   "metadata": {},
   "cell_type": "markdown",
   "source": [
    "There are 2 batches, each with 3 tokens and each token as a probability distribution over the vocabulary of size 50257. What we need is the maximum probability for each of these 3 tokens in 2 batches.\n",
    "\n",
    "Notice how we retain the third dimension by using ``keepdim=True``, if this wasn't provided the the result would have been of shape (2, 3) instead of (2, 3, 1)"
   ],
   "id": "78f9af8f703e3407"
  },
  {
   "metadata": {
    "ExecuteTime": {
     "end_time": "2025-09-24T06:03:02.279953Z",
     "start_time": "2025-09-24T06:03:02.277484Z"
    }
   },
   "cell_type": "code",
   "source": [
    "token_ids = torch.argmax(probas, dim=-1, keepdim=True)\n",
    "print(f\"token_ids are {token_ids} \\n\\nand has shape {token_ids.shape}\")"
   ],
   "id": "4fd7ef63963f13cd",
   "outputs": [
    {
     "name": "stdout",
     "output_type": "stream",
     "text": [
      "token_ids are tensor([[[16657],\n",
      "         [  339],\n",
      "         [42826]],\n",
      "\n",
      "        [[49906],\n",
      "         [29669],\n",
      "         [41751]]]) \n",
      "\n",
      "and has shape torch.Size([2, 3, 1])\n"
     ]
    }
   ],
   "execution_count": 7
  },
  {
   "metadata": {},
   "cell_type": "markdown",
   "source": [
    "Lets decode and print thiese generated tokens, notice how the generated tokens are not the expected ones. We now need a loss function to measure how far off we are from the expected output. The goal is to increase the softmax probability of the expected output tokens.\n",
    "\n",
    "With a vocabulary size of 50257, the chance probability of getting the correct token is 1/50257 = 0.0000199, this is very low."
   ],
   "id": "51e8af7ddeb087b0"
  },
  {
   "metadata": {
    "ExecuteTime": {
     "end_time": "2025-09-24T06:03:02.296237Z",
     "start_time": "2025-09-24T06:03:02.294228Z"
    }
   },
   "cell_type": "code",
   "source": [
    "print(f\"Targets batch 1: {token_ids_to_text(targets[0], tokenizer)}\")\n",
    "print(f\"Outputs batch 1:\"\n",
    "      f\" {token_ids_to_text(token_ids[0].flatten(), tokenizer)}\")"
   ],
   "id": "aad66a8bbb21a534",
   "outputs": [
    {
     "name": "stdout",
     "output_type": "stream",
     "text": [
      "Targets batch 1:  effort moves you\n",
      "Outputs batch 1:  Armed heNetflix\n"
     ]
    }
   ],
   "execution_count": 8
  },
  {
   "metadata": {},
   "cell_type": "markdown",
   "source": [
    "Remember target is what we expect the model to output. Lets look at the probabilities of these expected tokens in the generated probabilities.\n",
    "\n",
    "probs has shape (2, 3, 50257) and target has shape (2, 3), our goal while training is to increase the probabilities of these expected tokens relative to other tokens."
   ],
   "id": "d7d285e6ea38bd61"
  },
  {
   "metadata": {
    "ExecuteTime": {
     "end_time": "2025-09-24T06:03:02.316110Z",
     "start_time": "2025-09-24T06:03:02.312986Z"
    }
   },
   "cell_type": "code",
   "source": [
    "text_idx = 0\n",
    "target_probas_1 = probas[text_idx, torch.arange(targets.shape[1]), targets[text_idx]]\n",
    "text_idx = 1\n",
    "target_probas_2 = probas[text_idx, torch.arange(targets.shape[1]), targets[text_idx]]\n",
    "print(\"Text 1:\", target_probas_1)\n",
    "print(\"Text 2:\", target_probas_2)\n"
   ],
   "id": "e43ae64d4df6d464",
   "outputs": [
    {
     "name": "stdout",
     "output_type": "stream",
     "text": [
      "Text 1: tensor([7.4541e-05, 3.1061e-05, 1.1563e-05])\n",
      "Text 2: tensor([1.0337e-05, 5.6776e-05, 4.7559e-06])\n"
     ]
    }
   ],
   "execution_count": 9
  },
  {
   "metadata": {
    "ExecuteTime": {
     "end_time": "2025-09-15T05:24:11.676500Z",
     "start_time": "2025-09-15T05:24:11.673130Z"
    }
   },
   "cell_type": "markdown",
   "source": [
    "We will next calculate the negative log likelihood loss (NLLLoss) which is commonly used for classification problems\n",
    "\n",
    "![Test](./NLL.png)"
   ],
   "id": "bb3785c26be53f86"
  },
  {
   "metadata": {
    "ExecuteTime": {
     "end_time": "2025-09-24T06:03:02.330786Z",
     "start_time": "2025-09-24T06:03:02.327696Z"
    }
   },
   "cell_type": "code",
   "source": [
    "# Flatten and compute the log probabilities\n",
    "log_probas = torch.log(torch.cat([target_probas_1, target_probas_2]))\n",
    "print(log_probas)\n",
    "#Compute the average negative log likelihood loss\n",
    "avg_log_probas = torch.mean(log_probas)\n",
    "print(avg_log_probas)\n",
    "# We always minimise the loss, thus we take the negative, goal is to make this log_probas as close to 0 as possible\n",
    "neg_avg_log_probas = avg_log_probas * -1\n",
    "print(neg_avg_log_probas)\n"
   ],
   "id": "81b46f5ee6cd3aac",
   "outputs": [
    {
     "name": "stdout",
     "output_type": "stream",
     "text": [
      "tensor([ -9.5042, -10.3796, -11.3677, -11.4798,  -9.7764, -12.2561])\n",
      "tensor(-10.7940)\n",
      "tensor(10.7940)\n"
     ]
    }
   ],
   "execution_count": 10
  },
  {
   "metadata": {},
   "cell_type": "markdown",
   "source": [
    "Pytorch has a built in in ``cross_entropy`` loss function which combines the log softmax and ``NLLLoss`` in one function. We will use this to calculate the loss, recall ``logits`` are the raw outputs of the model before applying softmax\n",
    "\n",
    "We will flatten the first two dimensions of the logits"
   ],
   "id": "fa9444575619f32a"
  },
  {
   "metadata": {
    "ExecuteTime": {
     "end_time": "2025-09-24T06:03:02.348565Z",
     "start_time": "2025-09-24T06:03:02.345255Z"
    }
   },
   "cell_type": "code",
   "source": [
    "print(f\"Logits shape is {logits.shape}\")\n",
    "print(f\"Targets shape is {targets.shape}\")\n",
    "logits_flat = logits.flatten(0, 1)\n",
    "targets_flat = targets.flatten()\n",
    "print(\"Flattened logits:\", logits_flat.shape)\n",
    "print(\"Flattened targets:\", targets_flat.shape)\n",
    "loss = torch.nn.functional.cross_entropy(logits_flat, targets_flat)\n",
    "print(\"Cross entropy loss is:\", loss)\n",
    "print(\"Perplexity: \",torch.exp(loss))"
   ],
   "id": "71673dad5fb9ce5f",
   "outputs": [
    {
     "name": "stdout",
     "output_type": "stream",
     "text": [
      "Logits shape is torch.Size([2, 3, 50257])\n",
      "Targets shape is torch.Size([2, 3])\n",
      "Flattened logits: torch.Size([6, 50257])\n",
      "Flattened targets: torch.Size([6])\n",
      "Cross entropy loss is: tensor(10.7940)\n",
      "Perplexity:  tensor(48725.8203)\n"
     ]
    }
   ],
   "execution_count": 11
  },
  {
   "metadata": {},
   "cell_type": "markdown",
   "source": [
    "Perplexity: A common metric for evaluating language models is perplexity, which is the exponentiation of the cross-entropy loss. It provides a measure of how well the model predicts a sample. A lower perplexity indicates a better predictive model. in above case of ``10.790`` perplexity is ``torch.exp(10.7940) = 48725.8203`` which means that the model is unsure of which token to predict next among 48725 tokens, this is close to the chance probability of 50257 tokens\n",
    "\n",
    "Next we will prepare the dataset to train our small model"
   ],
   "id": "438c588aa039dff0"
  },
  {
   "metadata": {
    "ExecuteTime": {
     "end_time": "2025-09-24T06:03:02.366126Z",
     "start_time": "2025-09-24T06:03:02.361520Z"
    }
   },
   "cell_type": "code",
   "source": [
    "file_path = \"./data/the-verdict.txt\"\n",
    "with open(file_path, \"r\", encoding=\"utf-8\") as f:\n",
    "    text_data = f.read()\n",
    "total_characters = len(text_data)\n",
    "total_tokens = len(tokenizer.encode(text_data))\n",
    "print(\"Characters:\", total_characters)\n",
    "print(\"Tokens:\", total_tokens)"
   ],
   "id": "c539a39cd9fda397",
   "outputs": [
    {
     "name": "stdout",
     "output_type": "stream",
     "text": [
      "Characters: 20479\n",
      "Tokens: 5145\n"
     ]
    }
   ],
   "execution_count": 12
  },
  {
   "metadata": {},
   "cell_type": "markdown",
   "source": [
    "The dataloaders can be visualized as below\n",
    "\n",
    "![test](./Dataloaders.png)"
   ],
   "id": "dc11d6641df794c8"
  },
  {
   "metadata": {
    "ExecuteTime": {
     "end_time": "2025-09-24T06:03:02.379318Z",
     "start_time": "2025-09-24T06:03:02.376426Z"
    }
   },
   "cell_type": "code",
   "source": [
    "# Recreate the same data loaders we implemented in chapter 2\n",
    "\n",
    "from torch.utils.data import Dataset, DataLoader\n",
    "\n",
    "class GPTDataset(Dataset):\n",
    "    def __init__(self, text, tokenizer, stride, max_length):\n",
    "        self.input_ids = []\n",
    "        self.target_ids = []\n",
    "        tokens = tokenizer.encode(text)\n",
    "        for i in range(0, len(tokens) - max_length - 1, stride):\n",
    "            input_id = tokens[i: i + max_length]\n",
    "            target_id = tokens[i + 1: i + max_length + 1]\n",
    "            self.input_ids.append(torch.tensor(input_id))\n",
    "            self.target_ids.append(torch.tensor(target_id))\n",
    "\n",
    "    def __len__(self):\n",
    "        return len(self.input_ids)\n",
    "\n",
    "    def __getitem__(self, idx):\n",
    "        return self.input_ids[idx], self.target_ids[idx]\n",
    "\n",
    "def create_dataloader_v1(text, batch_size=4, max_length=256,\n",
    "                         stride=128, shuffle=True, drop_last=True,\n",
    "                         num_workers=0):\n",
    "    tokenizer = tiktoken.get_encoding(\"gpt2\")\n",
    "    return DataLoader(dataset=GPTDataset(text=text, tokenizer=tokenizer, stride=stride, max_length=max_length),\n",
    "                      batch_size=batch_size,\n",
    "                      drop_last=drop_last,\n",
    "                      num_workers=num_workers,\n",
    "                      shuffle=shuffle)"
   ],
   "id": "dcdd3187587f13ce",
   "outputs": [],
   "execution_count": 13
  },
  {
   "metadata": {
    "ExecuteTime": {
     "end_time": "2025-09-24T06:03:02.396491Z",
     "start_time": "2025-09-24T06:03:02.389610Z"
    }
   },
   "cell_type": "code",
   "source": [
    "# Split data in train and validation set and create two data loaders\n",
    "train_ratio = 0.90\n",
    "split_idx = int(train_ratio * len(text_data))\n",
    "train_data = text_data[:split_idx]\n",
    "val_data = text_data[split_idx:]\n",
    "\n",
    "train_loader = create_dataloader_v1(\n",
    "    train_data,\n",
    "    batch_size=2,\n",
    "    max_length=GPT_CONFIG_124M[\"context_length\"],\n",
    "    stride=GPT_CONFIG_124M[\"context_length\"],\n",
    "    drop_last=True,\n",
    "    shuffle=True,\n",
    "    num_workers=0\n",
    ")\n",
    "val_loader = create_dataloader_v1(\n",
    "    val_data,\n",
    "    batch_size=2,\n",
    "    max_length=GPT_CONFIG_124M[\"context_length\"],\n",
    "    stride=GPT_CONFIG_124M[\"context_length\"],\n",
    "    drop_last=False,\n",
    "    shuffle=False,\n",
    "    num_workers=0\n",
    ")\n",
    "\n",
    "print(\"Train loader:\")\n",
    "for x, y in train_loader:\n",
    "    print(x.shape, y.shape)\n",
    "\n",
    "print(\"\\nValidation loader:\")\n",
    "for x, y in val_loader:\n",
    "    print(x.shape, y.shape)\n",
    "\n"
   ],
   "id": "cf1cf07a84156a33",
   "outputs": [
    {
     "name": "stdout",
     "output_type": "stream",
     "text": [
      "Train loader:\n",
      "torch.Size([2, 256]) torch.Size([2, 256])\n",
      "torch.Size([2, 256]) torch.Size([2, 256])\n",
      "torch.Size([2, 256]) torch.Size([2, 256])\n",
      "torch.Size([2, 256]) torch.Size([2, 256])\n",
      "torch.Size([2, 256]) torch.Size([2, 256])\n",
      "torch.Size([2, 256]) torch.Size([2, 256])\n",
      "torch.Size([2, 256]) torch.Size([2, 256])\n",
      "torch.Size([2, 256]) torch.Size([2, 256])\n",
      "torch.Size([2, 256]) torch.Size([2, 256])\n",
      "\n",
      "Validation loader:\n",
      "torch.Size([2, 256]) torch.Size([2, 256])\n"
     ]
    }
   ],
   "execution_count": 14
  },
  {
   "metadata": {
    "ExecuteTime": {
     "end_time": "2025-09-17T04:41:35.734278Z",
     "start_time": "2025-09-17T04:41:35.732822Z"
    }
   },
   "cell_type": "markdown",
   "source": "Let us now implement the ``cross_entropy`` loss function for our given batch data and then the ``cross_entropy`` for the loader",
   "id": "b1bb5d68603b1022"
  },
  {
   "metadata": {
    "ExecuteTime": {
     "end_time": "2025-09-24T06:03:02.407051Z",
     "start_time": "2025-09-24T06:03:02.404488Z"
    }
   },
   "cell_type": "code",
   "source": [
    "import torch.nn as nn\n",
    "def calc_loss_batch(input_batch, target_batch, model, device):\n",
    "    input_batch = input_batch.to(device) # shape (batch_size, seq_len)\n",
    "    target_batch = target_batch.to(device) # shape (batch_size, seq_len)\n",
    "    logits = model(input_batch) # Generates (logits) of shape (batch_size, seq_len, vocab_size)\n",
    "    return nn.functional.cross_entropy(\n",
    "                logits.flatten(0, 1),   # shape (batch_size * seq_len, vocab_size)\n",
    "                target_batch.flatten()) # shape (batch_size * seq_len)\n",
    "\n",
    "def calc_loss_loader(data_loader, model, device, num_batches=None):\n",
    "    total_loss = 0\n",
    "    if len(data_loader) == 0:\n",
    "        return float(\"nan\")\n",
    "    else:\n",
    "        num_batches = len(data_loader) if num_batches is None else min(num_batches, len(data_loader))\n",
    "        for i, (input_batch, target_batch) in enumerate(data_loader):\n",
    "            if i < num_batches:\n",
    "                total_loss += calc_loss_batch(input_batch, target_batch, model, device).item()\n",
    "            else:\n",
    "                break\n",
    "        return total_loss / num_batches"
   ],
   "id": "1685fddeac1be530",
   "outputs": [],
   "execution_count": 15
  },
  {
   "metadata": {},
   "cell_type": "markdown",
   "source": "Lets apply this to test on a model without training",
   "id": "99b841bb916b3412"
  },
  {
   "metadata": {
    "ExecuteTime": {
     "end_time": "2025-09-24T06:03:03.161366Z",
     "start_time": "2025-09-24T06:03:02.421381Z"
    }
   },
   "cell_type": "code",
   "source": [
    "if torch.cuda.is_available():\n",
    "    device = torch.device(\"cuda\")\n",
    "elif torch.backends.mps.is_available():\n",
    "    device = torch.device(\"mps\")\n",
    "else:\n",
    "    device = torch.device(\"cpu\")\n",
    "print(\"Using device:\", device)\n",
    "model.to(device)\n",
    "with torch.no_grad():\n",
    "    train_loss = calc_loss_loader(train_loader, model, device)\n",
    "    val_loss = calc_loss_loader(val_loader, model, device)\n",
    "print(\"Train loss:\", train_loss)\n",
    "print(\"Val loss:\", val_loss)\n"
   ],
   "id": "597836020a122843",
   "outputs": [
    {
     "name": "stdout",
     "output_type": "stream",
     "text": [
      "Using device: mps\n",
      "Train loss: 10.987583372328016\n",
      "Val loss: 10.98110580444336\n"
     ]
    }
   ],
   "execution_count": 16
  },
  {
   "metadata": {},
   "cell_type": "markdown",
   "source": [
    "### Train an LLM\n",
    "\n",
    "With all the nuts and bolts in place we will now train our LLM"
   ],
   "id": "35bdd21ee44390ed"
  },
  {
   "metadata": {
    "ExecuteTime": {
     "end_time": "2025-09-24T06:03:03.172510Z",
     "start_time": "2025-09-24T06:03:03.168262Z"
    }
   },
   "cell_type": "code",
   "source": [
    "# First define a method that evaluates the model on both train and validation set and returns the training and validation set losses\n",
    "def evaluate_model(model, train_loader, val_loader, device, eval_iter):\n",
    "    model.eval()\n",
    "    with torch.no_grad():\n",
    "        train_loss = calc_loss_loader(train_loader, model, device, num_batches=eval_iter)\n",
    "        val_loss = calc_loss_loader(val_loader, model, device, num_batches=eval_iter)\n",
    "\n",
    "    model.train()\n",
    "    return train_loss, val_loss\n",
    "\n",
    "def generate_and_print_sample(model, tokenizer, device, start_context):\n",
    "    model.eval()\n",
    "    context_size = model.pos_emb.weight.shape[0]\n",
    "    encoded = text_to_token_ids(start_context, tokenizer).to(device)\n",
    "    with torch.no_grad():\n",
    "        token_ids = generate_text_simple(\n",
    "                     model=model, idx=encoded,\n",
    "                     max_new_tokens=50, context_size=context_size\n",
    "                    )\n",
    "    decoded_text = token_ids_to_text(token_ids, tokenizer)\n",
    "    print(decoded_text.replace(\"\\n\", \" \"))\n",
    "    model.train()\n",
    "\n",
    "# Next we will define a simple training loop\n",
    "def train_model_simple(model, train_loader, val_loader,\n",
    "                       optimizer, device, num_epochs,\n",
    "                       eval_freq, eval_iter, start_context, tokenizer):\n",
    "    train_losses, val_losses, track_tokens_seen = [], [], []\n",
    "    tokens_seen, global_step = 0, -1\n",
    "    for epoch in range(num_epochs):\n",
    "        model.train()\n",
    "        for input_batch, target_batch in train_loader:\n",
    "            global_step += 1\n",
    "            tokens_seen += input_batch.numel()\n",
    "            loss = calc_loss_batch(input_batch, target_batch, model, device)\n",
    "            optimizer.zero_grad()\n",
    "            loss.backward()\n",
    "            optimizer.step()\n",
    "\n",
    "            if global_step % eval_freq == 0:\n",
    "                train_loss, val_loss = evaluate_model(model, train_loader, val_loader, device, eval_iter)\n",
    "                train_losses.append(train_loss)\n",
    "                val_losses.append(val_loss)\n",
    "                track_tokens_seen.append(tokens_seen)\n",
    "                print(f\"Epoch {epoch+1}, step {global_step:06d}: \"\n",
    "                      f\"train loss {train_loss:.3f}, val loss {val_loss:.3f}, \"\n",
    "                      f\"tokens seen {tokens_seen}\")\n",
    "        generate_and_print_sample(model, tokenizer, device, start_context)\n",
    "    return train_losses, val_losses, track_tokens_seen"
   ],
   "id": "891dc384cca2b326",
   "outputs": [],
   "execution_count": 17
  },
  {
   "metadata": {
    "ExecuteTime": {
     "end_time": "2025-09-19T05:29:12.154526Z",
     "start_time": "2025-09-19T05:29:12.152537Z"
    }
   },
   "cell_type": "markdown",
   "source": "Now lets initialize and start the training loop",
   "id": "d7e95199c2ec46a7"
  },
  {
   "metadata": {
    "ExecuteTime": {
     "end_time": "2025-09-24T06:03:45.960282Z",
     "start_time": "2025-09-24T06:03:03.183579Z"
    }
   },
   "cell_type": "code",
   "source": [
    "torch.manual_seed(123)\n",
    "model = GPTModel(GPT_CONFIG_124M)\n",
    "model.to(device)\n",
    "optimizer = torch.optim.AdamW( model.parameters(), lr=0.0004, weight_decay=0.1)\n",
    "num_epochs = 10\n",
    "train_losses, val_losses, tokens_seen = train_model_simple(\n",
    "    model, train_loader, val_loader, optimizer, device,\n",
    "    num_epochs=num_epochs, eval_freq=5, eval_iter=5,\n",
    "    start_context=\"Every effort moves you\", tokenizer=tokenizer\n",
    ")"
   ],
   "id": "5166f33908ad558e",
   "outputs": [
    {
     "name": "stdout",
     "output_type": "stream",
     "text": [
      "Epoch 1, step 000000: train loss 9.817, val loss 9.924, tokens seen 512\n",
      "Epoch 1, step 000005: train loss 8.066, val loss 8.332, tokens seen 3072\n",
      "Every effort moves you,,,,,,,,,,,,.                                     \n",
      "Epoch 2, step 000010: train loss 6.619, val loss 7.042, tokens seen 5632\n",
      "Epoch 2, step 000015: train loss 6.046, val loss 6.596, tokens seen 8192\n",
      "Every effort moves you, and,, and, and,,,,, and, and,,,,,,,,,,, and,, the,, the, and,, and,,, the, and,,,,,,\n",
      "Epoch 3, step 000020: train loss 5.524, val loss 6.508, tokens seen 10752\n",
      "Epoch 3, step 000025: train loss 5.369, val loss 6.378, tokens seen 13312\n",
      "Every effort moves you, and to the of the of the picture. Gis.                                     \n",
      "Epoch 4, step 000030: train loss 4.830, val loss 6.263, tokens seen 15872\n",
      "Epoch 4, step 000035: train loss 4.586, val loss 6.285, tokens seen 18432\n",
      "Every effort moves you of the \"I the picture.                    \"I\"I the picture\"I had the picture\"I the picture and I had been the picture of\n",
      "Epoch 5, step 000040: train loss 3.879, val loss 6.130, tokens seen 20992\n",
      "Every effort moves you know he had been his pictures, and I felt it's by his last word.                   \"Oh, and he had been the end, and he had been\n",
      "Epoch 6, step 000045: train loss 3.530, val loss 6.183, tokens seen 23552\n",
      "Epoch 6, step 000050: train loss 2.960, val loss 6.123, tokens seen 26112\n",
      "Every effort moves you know it was his pictures--I glanced after him, I had the last word.        \"Oh, and I was his pictures--I looked.   \"I looked. \"I looked. \n",
      "Epoch 7, step 000055: train loss 2.832, val loss 6.150, tokens seen 28672\n",
      "Epoch 7, step 000060: train loss 2.104, val loss 6.133, tokens seen 31232\n",
      "Every effort moves you know the picture to me--I glanced after him, and Mrs.  \"I was no great, the fact, the fact that, the moment--as Jack himself, as his pictures--as of the picture--because he was a little\n",
      "Epoch 8, step 000065: train loss 1.691, val loss 6.186, tokens seen 33792\n",
      "Epoch 8, step 000070: train loss 1.391, val loss 6.230, tokens seen 36352\n",
      "Every effort moves you?\"  \"Yes--quite insensible to the fact with a little: \"Yes--and by me to me to have to see a smile behind his close grayish beard--as if he had the donkey. \"There were days when I\n",
      "Epoch 9, step 000075: train loss 1.059, val loss 6.251, tokens seen 38912\n",
      "Epoch 9, step 000080: train loss 0.800, val loss 6.278, tokens seen 41472\n",
      "Every effort moves you?\"  \"Yes--quite insensible to the fact with a laugh: \"Yes--and by me!\"  He laughed again, and threw back the window-curtains, I saw that, and down the room, and now\n",
      "Epoch 10, step 000085: train loss 0.569, val loss 6.373, tokens seen 44032\n",
      "Every effort moves you?\"  \"Yes--quite insensible to the irony. She wanted him vindicated--and by me!\"  He laughed again, and threw back his head to look up at the sketch of the donkey. \"There were days when I\n"
     ]
    }
   ],
   "execution_count": 18
  },
  {
   "metadata": {
    "ExecuteTime": {
     "end_time": "2025-09-24T06:03:46.316948Z",
     "start_time": "2025-09-24T06:03:45.975223Z"
    }
   },
   "cell_type": "code",
   "source": [
    "import matplotlib.pyplot as plt\n",
    "from matplotlib.ticker import MaxNLocator\n",
    "def plot_losses(epochs_seen, tokens_seen, train_losses, val_losses):\n",
    "    fig, ax1 = plt.subplots(figsize=(5, 3))\n",
    "    ax1.plot(epochs_seen, train_losses, label=\"Training loss\")\n",
    "    ax1.plot(\n",
    "        epochs_seen, val_losses, linestyle=\"-.\", label=\"Validation loss\"\n",
    "    )\n",
    "    ax1.set_xlabel(\"Epochs\")\n",
    "    ax1.set_ylabel(\"Loss\")\n",
    "    ax1.legend(loc=\"upper right\")\n",
    "    ax1.xaxis.set_major_locator(MaxNLocator(integer=True))\n",
    "    ax2 = ax1.twiny()\n",
    "    ax2.plot(tokens_seen, train_losses, alpha=0)\n",
    "    ax2.set_xlabel(\"Tokens seen\")\n",
    "    fig.tight_layout()\n",
    "    plt.show()\n",
    "epochs_tensor = torch.linspace(0, num_epochs, len(train_losses))\n",
    "plot_losses(epochs_tensor, tokens_seen, train_losses, val_losses)\n"
   ],
   "id": "544c7ce8f407ca15",
   "outputs": [
    {
     "data": {
      "text/plain": [
       "<Figure size 500x300 with 2 Axes>"
      ],
      "image/png": "[encoded data removed]"
     },
     "metadata": {},
     "output_type": "display_data"
    }
   ],
   "execution_count": 19
  },
  {
   "metadata": {},
   "cell_type": "markdown",
   "source": [
    "Once we get past second epoch we can see that the model is able to generate meaningful text. The training and validation losses are also decreasing, indicating that the model is learning. But after epoch 2, validation loss starts to increase, indicating overfitting. This is expected as we are training a large model on a small dataset.\n",
    "\n",
    "Lets put the model back on cpu and run some sample text generation. Also, we will look at a concept called temperature scaling"
   ],
   "id": "8a598367ab187c3d"
  },
  {
   "metadata": {
    "ExecuteTime": {
     "end_time": "2025-09-24T06:03:47.853790Z",
     "start_time": "2025-09-24T06:03:46.323351Z"
    }
   },
   "cell_type": "code",
   "source": [
    "model.to(\"cpu\")\n",
    "model.eval()\n",
    "tokenizer = tiktoken.get_encoding(\"gpt2\")\n",
    "token_ids = generate_text_simple(\n",
    "    model=model,\n",
    "    idx=text_to_token_ids(\"Every effort moves you\", tokenizer),\n",
    "    max_new_tokens=25,\n",
    "    context_size=GPT_CONFIG_124M[\"context_length\"]\n",
    ")\n",
    "print(\"Output text:\\n\", token_ids_to_text(token_ids, tokenizer))"
   ],
   "id": "c1f7bf2d2852f5a0",
   "outputs": [
    {
     "name": "stdout",
     "output_type": "stream",
     "text": [
      "Output text:\n",
      " Every effort moves you?\"\n",
      "\n",
      "\"Yes--quite insensible to the irony. She wanted him vindicated--and by me!\"\n",
      "\n",
      "\n"
     ]
    }
   ],
   "execution_count": 20
  },
  {
   "metadata": {
    "ExecuteTime": {
     "end_time": "2025-09-24T06:03:47.879672Z",
     "start_time": "2025-09-24T06:03:47.875369Z"
    }
   },
   "cell_type": "code",
   "source": [
    "# Lets consider this vocab again\n",
    "vocab = {\n",
    "    \"closer\": 0,\n",
    "    \"every\": 1,\n",
    "    \"effort\": 2,\n",
    "    \"forward\": 3,\n",
    "    \"inches\": 4,\n",
    "    \"moves\": 5,\n",
    "    \"pizza\": 6,\n",
    "    \"toward\": 7,\n",
    "    \"you\": 8,\n",
    "}\n",
    "inverse_vocab = {v: k for k, v in vocab.items()}\n",
    "# We expect the index 3 (forward) to have the highest probability\n",
    "next_token_logits = torch.tensor(\n",
    "    [4.51, 0.89, -1.90, 6.75, 1.63, -1.62, -1.89, 6.28, 1.79]\n",
    ")\n",
    "probas = torch.softmax(next_token_logits, dim=0)\n",
    "next_token_id = torch.argmax(probas).item()\n",
    "print(inverse_vocab[next_token_id])\n",
    "\n",
    "# If we repeat this experiment 100 times, each time the output will be the same\n",
    "for _ in range(100):\n",
    "    next_token_id = torch.argmax(probas).item()\n",
    "    assert next_token_id == 3"
   ],
   "id": "6d2ee6f7ffdb8848",
   "outputs": [
    {
     "name": "stdout",
     "output_type": "stream",
     "text": [
      "forward\n"
     ]
    }
   ],
   "execution_count": 21
  },
  {
   "metadata": {},
   "cell_type": "markdown",
   "source": "|Let's first look at what multinomial sampling is\n",
   "id": "bf8eea5fcec14a26"
  },
  {
   "metadata": {
    "ExecuteTime": {
     "end_time": "2025-09-24T06:03:47.902765Z",
     "start_time": "2025-09-24T06:03:47.893801Z"
    }
   },
   "cell_type": "code",
   "source": [
    "import torch\n",
    "from collections import Counter\n",
    "# Define probabilities for 4 categories, image this is a 4 faced die with each face has a different probability\n",
    "weights = torch.tensor([0.1, 0.2, 0.3, 0.4])\n",
    "\n",
    "# Draw 100,000 samples from this distribution with replacement\n",
    "samples_drawn = torch.multinomial(weights, 100000, replacement=True).tolist()\n",
    "counts_by_face = Counter(samples_drawn)\n",
    "print(\"Counts by face:\")\n",
    "for face, count in sorted(counts_by_face.items()):\n",
    "    print(f\"\\tFace {face}: {count/len(samples_drawn):.2f}\")\n",
    "# We see the simulated probabilities are close to the original weights"
   ],
   "id": "10209d29a0c07213",
   "outputs": [
    {
     "name": "stdout",
     "output_type": "stream",
     "text": [
      "Counts by face:\n",
      "\tFace 0: 0.10\n",
      "\tFace 1: 0.20\n",
      "\tFace 2: 0.30\n",
      "\tFace 3: 0.40\n"
     ]
    }
   ],
   "execution_count": 22
  },
  {
   "metadata": {},
   "cell_type": "markdown",
   "source": [
    "Now that we saw what multinomial sampling is, what we do next is use the probabilities of the next sample token and use multinomial sampling to select the next token. This will add some randomness unlike the previous approach where we used ``argmax`` which deterministically selected the next token with the highest probability.\n",
    "\n",
    "We now know the probability of selection is directly proportional to the weight of each token."
   ],
   "id": "93c402b31a54ebf8"
  },
  {
   "metadata": {
    "ExecuteTime": {
     "end_time": "2025-09-24T06:03:47.934409Z",
     "start_time": "2025-09-24T06:03:47.912531Z"
    }
   },
   "cell_type": "code",
   "source": [
    "def print_sampled_token(probas):\n",
    "    torch.manual_seed(123)\n",
    "    samples = torch.tensor([torch.multinomial(probas, num_samples = 1) for _ in range(1000)])\n",
    "    sampled_ids = torch.bincount(samples)\n",
    "    for i, freq in enumerate(sampled_ids):\n",
    "        print(f\"{freq} x {inverse_vocab[i]}\")\n",
    "\n",
    "print_sampled_token(probas)\n",
    "\n",
    "# While forward is still most likely token, the other tokens also get selected sometimes\n",
    "# in the same proportion as their probabilities"
   ],
   "id": "d86e76ef665a632",
   "outputs": [
    {
     "name": "stdout",
     "output_type": "stream",
     "text": [
      "73 x closer\n",
      "0 x every\n",
      "0 x effort\n",
      "582 x forward\n",
      "2 x inches\n",
      "0 x moves\n",
      "0 x pizza\n",
      "343 x toward\n"
     ]
    }
   ],
   "execution_count": 23
  },
  {
   "metadata": {},
   "cell_type": "markdown",
   "source": "We will use an additional parameter temperature to control the randomness of the sampling. A higher temperature will make the distribution more uniform, while a lower temperature will make the distribution more peaked.",
   "id": "8d35fdf36bd18eaa"
  },
  {
   "metadata": {
    "ExecuteTime": {
     "end_time": "2025-09-24T06:03:48.006732Z",
     "start_time": "2025-09-24T06:03:47.940904Z"
    }
   },
   "cell_type": "code",
   "source": [
    "def softmax_with_temperature(logits, temperature):\n",
    "    scaled_logits = logits / temperature\n",
    "    return torch.softmax(scaled_logits, dim=0)\n",
    "\n",
    "temperatures = [1, 0.1, 5]\n",
    "scaled_probas = [softmax_with_temperature(next_token_logits, T)\n",
    "                for T in temperatures]\n",
    "x = torch.arange(len(vocab))\n",
    "bar_width = 0.15\n",
    "fig, ax = plt.subplots(figsize=(5, 3))\n",
    "for i, T in enumerate(temperatures):\n",
    "    rects = ax.bar(x + i * bar_width, scaled_probas[i],\n",
    "                   bar_width, label=f'Temperature = {T}')\n",
    "ax.set_ylabel('Probability')\n",
    "ax.set_xticks(x)\n",
    "ax.set_xticklabels(vocab.keys(), rotation=90)\n",
    "ax.legend()\n",
    "plt.tight_layout()\n",
    "plt.show()\n"
   ],
   "id": "65717843c847fa62",
   "outputs": [
    {
     "data": {
      "text/plain": [
       "<Figure size 500x300 with 1 Axes>"
      ],
      "image/png": "[encoded data removed]"
     },
     "metadata": {},
     "output_type": "display_data"
    }
   ],
   "execution_count": 24
  },
  {
   "metadata": {},
   "cell_type": "markdown",
   "source": [
    "As we see above, when the temperature is 0.1 (low), the distribution is very peaked, meaning the model is very confident about its prediction with \"forward\" predicted almost always. When the temperature is 5 (high), the distribution is more uniform, meaning the model is less confident about its prediction.\n",
    "\n",
    "\n",
    "TODO: Ex 5.1\n",
    "\n",
    "We will now look at Top-k sampling\n",
    "\n",
    "### Top-k Sampling\n",
    "\n",
    "By increasing the temperature, we make the distribution more uniform, but this can lead to selecting very low probability tokens which may not make sense in the context. To avoid this, we can use Top-k sampling, where we only consider the top k tokens with the highest probabilities and set the rest to zero. This way, we limit the selection to a smaller set of likely tokens.\n",
    "\n",
    "Following image summarizes this idea.\n",
    "\n",
    "![Test](./Top-k.png)\n"
   ],
   "id": "fe9b552084e02bd3"
  },
  {
   "metadata": {
    "ExecuteTime": {
     "end_time": "2025-09-24T06:03:48.017600Z",
     "start_time": "2025-09-24T06:03:48.013612Z"
    }
   },
   "cell_type": "code",
   "source": [
    "top_k = 3\n",
    "top_logits, top_pos = torch.topk(next_token_logits, top_k)\n",
    "print(\"Top logits:\", top_logits)\n",
    "print(\"Top positions:\", top_pos)\n",
    "# Following line is more memory efficient but it modifies the original next_token_logits tensor\n",
    "#next_token_logits[next_token_logits < top_logits[-1]] = torch.tensor(float('-inf'))\n",
    "\n",
    "new_logits = torch.where(\n",
    "    condition=next_token_logits < top_logits[-1],\n",
    "    input = torch.tensor(float('-inf')),\n",
    "    other = next_token_logits\n",
    ")\n",
    "\n",
    "print(new_logits)\n",
    "topk_probas = torch.softmax(new_logits, dim=0)\n",
    "print(topk_probas)\n"
   ],
   "id": "a55fd438654aee2f",
   "outputs": [
    {
     "name": "stdout",
     "output_type": "stream",
     "text": [
      "Top logits: tensor([6.7500, 6.2800, 4.5100])\n",
      "Top positions: tensor([3, 7, 0])\n",
      "tensor([4.5100,   -inf,   -inf, 6.7500,   -inf,   -inf,   -inf, 6.2800,   -inf])\n",
      "tensor([0.0615, 0.0000, 0.0000, 0.5775, 0.0000, 0.0000, 0.0000, 0.3610, 0.0000])\n"
     ]
    }
   ],
   "execution_count": 25
  },
  {
   "metadata": {},
   "cell_type": "markdown",
   "source": "Now we will modify the ``generate`` function to include the temperature and top-k sampling\n",
   "id": "1ae7221a319fd7b6"
  },
  {
   "metadata": {
    "ExecuteTime": {
     "end_time": "2025-09-24T06:03:48.035809Z",
     "start_time": "2025-09-24T06:03:48.032801Z"
    }
   },
   "cell_type": "code",
   "source": [
    "def generate(model, idx, max_new_tokens, context_size,\n",
    "             temperature=0.0, top_k=None, eos_id=None):\n",
    "    for _ in range(max_new_tokens):\n",
    "        idx_cond = idx[:, -context_size:]\n",
    "        with torch.no_grad():\n",
    "            logits = model(idx_cond)   # (b, context_size, vocab_size)\n",
    "        logits = logits[:, -1, :]      # (b, vocab_size)\n",
    "\n",
    "        if top_k is not None:\n",
    "            top_k_logits, _ = torch.topk(logits, top_k)  # (b, top_k)\n",
    "            min_val = top_k_logits[:, -1]                # (b,)\n",
    "            logits[logits < min_val] = torch.tensor(float('-inf')).to(logits.device)\n",
    "            #logits = torch.where(logits < min_val, torch.tensor(float('-inf')).to(logits.device), logits)\n",
    "        if temperature > 0:\n",
    "            probs = torch.softmax(logits / temperature, dim=-1)\n",
    "            idx_next = torch.multinomial(probs, num_samples=1)\n",
    "        else:\n",
    "            idx_next = torch.argmax(logits, dim=-1, keepdim=True)\n",
    "\n",
    "        if idx_next == eos_id:\n",
    "            break\n",
    "        else:\n",
    "            idx = torch.cat((idx, idx_next), dim=-1)\n",
    "\n",
    "    return idx\n"
   ],
   "id": "badb93053ea62d5f",
   "outputs": [],
   "execution_count": 26
  },
  {
   "metadata": {
    "ExecuteTime": {
     "end_time": "2025-09-24T06:03:48.813032Z",
     "start_time": "2025-09-24T06:03:48.048914Z"
    }
   },
   "cell_type": "code",
   "source": [
    "torch.manual_seed(123)\n",
    "token_ids = generate(\n",
    "    model=model,\n",
    "    idx=text_to_token_ids(\"Every effort moves you\", tokenizer),\n",
    "    max_new_tokens=15,\n",
    "    context_size=GPT_CONFIG_124M[\"context_length\"],\n",
    "    top_k=25,\n",
    "    temperature=1.4\n",
    ")\n",
    "print(\"Output text:\\n\", token_ids_to_text(token_ids, tokenizer))"
   ],
   "id": "38f18c3c68537bee",
   "outputs": [
    {
     "name": "stdout",
     "output_type": "stream",
     "text": [
      "Output text:\n",
      " Every effort moves you stand,\" she down.\" For Mrs. Gisburn! The women had\n"
     ]
    }
   ],
   "execution_count": 27
  },
  {
   "metadata": {
    "ExecuteTime": {
     "end_time": "2025-09-22T04:37:03.792191Z",
     "start_time": "2025-09-22T04:37:03.790386Z"
    }
   },
   "cell_type": "markdown",
   "source": [
    "TODO: Look at Ex 5.2 and 5.3\n",
    "\n",
    "## Loading and saving model weights in PyTorch\n",
    "\n",
    "Now we will not train the model from scratch, instead we will load the weights of a pretrained model.\n",
    "\n",
    "First we will simply save the existing model and optimizer weights in a ``.pth`` file. This is the file for PyTorch format"
   ],
   "id": "4eafcd2de30238fc"
  },
  {
   "metadata": {
    "ExecuteTime": {
     "end_time": "2025-09-24T06:03:51.339835Z",
     "start_time": "2025-09-24T06:03:48.818716Z"
    }
   },
   "cell_type": "code",
   "source": [
    "torch.save({\n",
    " \"model_state_dict\": model.state_dict(),\n",
    "    \"optimizer_state_dict\": optimizer.state_dict()\n",
    "}, \"model_and_optimizer.pth\")\n"
   ],
   "id": "7ce87e1148e5dd2a",
   "outputs": [],
   "execution_count": 28
  },
  {
   "metadata": {
    "ExecuteTime": {
     "end_time": "2025-09-24T06:03:53.956157Z",
     "start_time": "2025-09-24T06:03:51.364069Z"
    }
   },
   "cell_type": "code",
   "source": [
    "checkpoint = torch.load(\"model_and_optimizer.pth\")\n",
    "model.load_state_dict(checkpoint[\"model_state_dict\"])\n",
    "optimizer.load_state_dict(checkpoint[\"optimizer_state_dict\"])\n",
    "model.eval()\n",
    "#Lets test the previously generated output\n",
    "torch.manual_seed(123)\n",
    "token_ids = generate(\n",
    "    model=model,\n",
    "    idx=text_to_token_ids(\"Every effort moves you\", tokenizer),\n",
    "    max_new_tokens=15,\n",
    "    context_size=GPT_CONFIG_124M[\"context_length\"],\n",
    "    top_k=25,\n",
    "    temperature=1.4\n",
    ")\n",
    "print(\"Output text:\\n\", token_ids_to_text(token_ids, tokenizer))"
   ],
   "id": "3efc0844a8f6c827",
   "outputs": [
    {
     "name": "stdout",
     "output_type": "stream",
     "text": [
      "Output text:\n",
      " Every effort moves you stand,\" she down.\" For Mrs. Gisburn! The women had\n"
     ]
    }
   ],
   "execution_count": 29
  },
  {
   "metadata": {
    "ExecuteTime": {
     "end_time": "2025-09-24T06:03:54.640680Z",
     "start_time": "2025-09-24T06:03:54.633847Z"
    }
   },
   "cell_type": "code",
   "source": [
    "# Download the Python code that will download the GPT2 weights\n",
    "import requests\n",
    "import os\n",
    "url = (\n",
    "    \"https://raw.githubusercontent.com/rasbt/\"\n",
    "    \"LLMs-from-scratch/main/ch05/\"\n",
    "    \"01_main-chapter-code/gpt_download.py\"\n",
    ")\n",
    "filename = url.split('/')[-1]\n",
    "if not os.path.exists(filename):\n",
    "    response = requests.get(url)\n",
    "    with open(filename, 'wb') as f:\n",
    "        f.write(response.content)"
   ],
   "id": "5c4adee3d545a4cc",
   "outputs": [],
   "execution_count": 30
  },
  {
   "metadata": {
    "ExecuteTime": {
     "end_time": "2025-09-24T06:09:41.228632Z",
     "start_time": "2025-09-24T06:07:09.899721Z"
    }
   },
   "cell_type": "code",
   "source": [
    "import gpt_download\n",
    "import importlib\n",
    "importlib.reload(gpt_download)\n",
    "settings, params = gpt_download.download_and_load_gpt2(\n",
    "    model_size=\"124M\", models_dir=\"gpt2\"\n",
    ")"
   ],
   "id": "421dd885d7d5cc50",
   "outputs": [
    {
     "name": "stderr",
     "output_type": "stream",
     "text": [
      "checkpoint: 100%|██████████| 77.0/77.0 [00:00<00:00, 77.9kiB/s]\n",
      "encoder.json: 100%|██████████| 1.04M/1.04M [00:01<00:00, 890kiB/s] \n",
      "hparams.json: 100%|██████████| 90.0/90.0 [00:00<00:00, 74.8kiB/s]\n",
      "model.ckpt.data-00000-of-00001: 100%|██████████| 498M/498M [02:16<00:00, 3.65MiB/s]   \n",
      "model.ckpt.index: 100%|██████████| 5.21k/5.21k [00:00<00:00, 3.32MiB/s]\n",
      "model.ckpt.meta: 100%|██████████| 471k/471k [00:00<00:00, 504kiB/s]  \n",
      "vocab.bpe: 100%|██████████| 456k/456k [00:00<00:00, 500kiB/s]  \n"
     ]
    }
   ],
   "execution_count": 34
  },
  {
   "metadata": {
    "ExecuteTime": {
     "end_time": "2025-09-24T06:09:41.251263Z",
     "start_time": "2025-09-24T06:09:41.248557Z"
    }
   },
   "cell_type": "code",
   "source": [
    "print(\"Settings:\", settings)\n",
    "print(\"Parameter dictionary keys:\", params.keys())"
   ],
   "id": "8f11516a71b92ddf",
   "outputs": [
    {
     "name": "stdout",
     "output_type": "stream",
     "text": [
      "Settings: {'n_vocab': 50257, 'n_ctx': 1024, 'n_embd': 768, 'n_head': 12, 'n_layer': 12}\n",
      "Parameter dictionary keys: dict_keys(['blocks', 'b', 'g', 'wpe', 'wte'])\n"
     ]
    }
   ],
   "execution_count": 35
  },
  {
   "metadata": {},
   "cell_type": "code",
   "outputs": [],
   "execution_count": null,
   "source": "",
   "id": "dbabac7fe58b8746"
  }
 ],
 "metadata": {
  "kernelspec": {
   "display_name": "Python 3",
   "language": "python",
   "name": "python3"
  },
  "language_info": {
   "codemirror_mode": {
    "name": "ipython",
    "version": 2
   },
   "file_extension": ".py",
   "mimetype": "text/x-python",
   "name": "python",
   "nbconvert_exporter": "python",
   "pygments_lexer": "ipython2",
   "version": "2.7.6"
  }
 },
 "nbformat": 4,
 "nbformat_minor": 5
}
